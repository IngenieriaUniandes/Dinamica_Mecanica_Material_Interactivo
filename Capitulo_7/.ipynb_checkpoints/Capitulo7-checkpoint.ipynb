{
 "cells": [
  {
   "cell_type": "markdown",
   "id": "450805a2",
   "metadata": {},
   "source": [
    "## 7. Método de Kane"
   ]
  },
  {
   "cell_type": "code",
   "execution_count": 1,
   "id": "4500bea9",
   "metadata": {},
   "outputs": [],
   "source": [
    "from sympy import symbols, sin, cos\n",
    "from sympy.physics.mechanics import ReferenceFrame, inertia, Point, dynamicsymbols\n",
    "from sympy.physics.mechanics import RigidBody, KanesMethod\n",
    "import numpy as np"
   ]
  },
  {
   "cell_type": "code",
   "execution_count": 42,
   "id": "1a3168a7",
   "metadata": {},
   "outputs": [],
   "source": [
    "# Para el ejemplo del movimiento de un cilindro sobre una rampa\n",
    "t,m,g,I,R,theta,=symbols('t,m,g,I,R,theta')\n",
    "q1,q2=dynamicsymbols('q1,q2')\n",
    "\n",
    "a=ReferenceFrame('A')\n",
    "d=a.orientnew('D','Axis',(theta,a.z))\n",
    "c=d.orientnew('C','Axis',(q2,d.z))\n",
    "\n",
    "#Defina puntos de interes y velocidades\n",
    "o=Point('O')\n",
    "c_com=o.locatenew('C_com',d.x*q1)\n",
    "o.set_vel(a,0)\n",
    "c_com.set_vel(c,0)\n",
    "\n",
    "Ic=inertia(c,0,0,I)\n",
    "\n",
    "#Defina un cuerpo rigido para el cilindro\n",
    "body_cilindro=RigidBody('cilindro',c_com,c,m,(Ic,c_com))\n",
    "\n",
    "u1,u2=dynamicsymbols('u1,u2')\n",
    "km=KanesMethod(a,[q1,q2],[u1,u2],kd_eqs=[u1-q1.diff(t),u2-R*q2.diff(t)])"
   ]
  },
  {
   "cell_type": "code",
   "execution_count": 55,
   "id": "c6e0846f",
   "metadata": {},
   "outputs": [
    {
     "data": {
      "text/latex": [
       "$\\displaystyle \\left[\\begin{matrix}- \\operatorname{u_{1}}{\\left(t \\right)} + \\frac{d}{d t} \\operatorname{q_{1}}{\\left(t \\right)}\\\\\\frac{d}{d t} \\operatorname{q_{2}}{\\left(t \\right)} - \\frac{\\operatorname{u_{2}}{\\left(t \\right)}}{R}\\\\g m \\sin{\\left(\\theta \\right)} + m \\frac{d}{d t} \\operatorname{u_{1}}{\\left(t \\right)}\\\\\\frac{I \\frac{d}{d t} \\operatorname{u_{2}}{\\left(t \\right)}}{R^{2}}\\end{matrix}\\right]$"
      ],
      "text/plain": [
       "Matrix([\n",
       "[          -u1(t) + Derivative(q1(t), t)],\n",
       "[         Derivative(q2(t), t) - u2(t)/R],\n",
       "[g*m*sin(theta) + m*Derivative(u1(t), t)],\n",
       "[            I*Derivative(u2(t), t)/R**2]])"
      ]
     },
     "execution_count": 55,
     "metadata": {},
     "output_type": "execute_result"
    }
   ],
   "source": [
    "# Calcule las fuerzas inerciales generalizadas\n",
    "(fr,frstar)=km.kanes_equations(bodies=[body_cilindro],loads=[(c_com,-m*g*a.y)])"
   ]
  },
  {
   "cell_type": "code",
   "execution_count": 57,
   "id": "471e15a2",
   "metadata": {},
   "outputs": [
    {
     "data": {
      "text/latex": [
       "$\\displaystyle \\left[\\begin{matrix}- m \\frac{d}{d t} \\operatorname{u_{1}}{\\left(t \\right)}\\\\- \\frac{I \\frac{d}{d t} \\operatorname{u_{2}}{\\left(t \\right)}}{R^{2}}\\end{matrix}\\right]$"
      ],
      "text/plain": [
       "Matrix([\n",
       "[     -m*Derivative(u1(t), t)],\n",
       "[-I*Derivative(u2(t), t)/R**2]])"
      ]
     },
     "execution_count": 57,
     "metadata": {},
     "output_type": "execute_result"
    }
   ],
   "source": [
    "frstar"
   ]
  },
  {
   "cell_type": "code",
   "execution_count": 58,
   "id": "90623138",
   "metadata": {},
   "outputs": [
    {
     "data": {
      "text/latex": [
       "$\\displaystyle \\left[\\begin{matrix}- \\operatorname{u_{1}}{\\left(t \\right)} + \\frac{d}{d t} \\operatorname{q_{1}}{\\left(t \\right)}\\\\\\frac{d}{d t} \\operatorname{q_{2}}{\\left(t \\right)} - \\frac{\\operatorname{u_{2}}{\\left(t \\right)}}{R}\\\\g m \\sin{\\left(\\theta \\right)} + m \\frac{d}{d t} \\operatorname{u_{1}}{\\left(t \\right)}\\\\\\frac{I \\frac{d}{d t} \\operatorname{u_{2}}{\\left(t \\right)}}{R^{2}}\\end{matrix}\\right]$"
      ],
      "text/plain": [
       "Matrix([\n",
       "[          -u1(t) + Derivative(q1(t), t)],\n",
       "[         Derivative(q2(t), t) - u2(t)/R],\n",
       "[g*m*sin(theta) + m*Derivative(u1(t), t)],\n",
       "[            I*Derivative(u2(t), t)/R**2]])"
      ]
     },
     "execution_count": 58,
     "metadata": {},
     "output_type": "execute_result"
    }
   ],
   "source": [
    "# Observe las equaciones de movimiento \n",
    "km.mass_matrix_full*km.q.col_join(km.u).diff(t)-km.forcing_full"
   ]
  },
  {
   "cell_type": "code",
   "execution_count": 71,
   "id": "bf3cf197",
   "metadata": {},
   "outputs": [
    {
     "data": {
      "text/latex": [
       "$\\displaystyle \\left[\\begin{matrix}- \\operatorname{u_{1}}{\\left(t \\right)} + \\frac{d}{d t} \\operatorname{q_{1}}{\\left(t \\right)}\\\\- \\operatorname{u_{2}}{\\left(t \\right)} + \\frac{d}{d t} \\operatorname{q_{2}}{\\left(t \\right)}\\\\- M_{3} + \\left(Ir + d^{2} mc + h^{2} mc\\right) \\frac{d}{d t} \\operatorname{u_{1}}{\\left(t \\right)}\\\\Ia \\frac{d}{d t} \\operatorname{u_{2}}{\\left(t \\right)}\\end{matrix}\\right]$"
      ],
      "text/plain": [
       "Matrix([\n",
       "[                      -u1(t) + Derivative(q1(t), t)],\n",
       "[                      -u2(t) + Derivative(q2(t), t)],\n",
       "[-M3 + (Ir + d**2*mc + h**2*mc)*Derivative(u1(t), t)],\n",
       "[                            Ia*Derivative(u2(t), t)]])"
      ]
     },
     "execution_count": 71,
     "metadata": {},
     "output_type": "execute_result"
    }
   ],
   "source": [
    "# Para el ejemplo del modelo de un tren de aterrizaje\n",
    "\n",
    "# Defina las variables de movimiento\n",
    "# y parametros del modelo\n",
    "q1,q2=dynamicsymbols('q1,q2')\n",
    "# Parametros del modelo\n",
    "h,d,mb,mc,Ia,Ir,g,M3=symbols('h,d,mb,mc,Ia,Ir,g,M3')\n",
    "\n",
    "#Marcos de referencia\n",
    "a=ReferenceFrame('A')\n",
    "b=a.orientnew('B','Axis',(q1,a.z))\n",
    "c=b.orientnew('C','Axis',(q2,b.x))\n",
    "\n",
    "# Puntos de interes\n",
    "o=Point('O')\n",
    "b_com=o.locatenew('Bcom',-h*b.y/2)\n",
    "b_end=o.locatenew('Bend',-h*b.y)\n",
    "c_com=b_end.locatenew('Ccom',d*b.x)\n",
    "\n",
    "# Defina la velocidad de cada punto\n",
    "o.set_vel(a,0)\n",
    "b_com.set_vel(b,0)\n",
    "c_com.set_vel(c,0)\n",
    "b_com.v2pt_theory(o,a,b)\n",
    "c_com.v2pt_theory(b_end,b,c)\n",
    "\n",
    "#Propiedades inerciales\n",
    "ic=inertia(c, Ia, Ir, Ir)\n",
    "\n",
    "# Cuerpos rigidos\n",
    "body_llanta=RigidBody('llanta',c_com,c,mc,(ic,c_com))\n",
    "\n",
    "u1,u2=dynamicsymbols('u1,u2')\n",
    "km=KanesMethod(a,[q1,q2],[u1,u2],kd_eqs=[u1-q1.diff(t),u2-q2.diff(t)])\n",
    "(fr,frstar)=km.kanes_equations(bodies=[body_llanta],loads=[(b,M3*b.z)])\n",
    "\n",
    "# Observe las equaciones de movimiento \n",
    "eom=km.mass_matrix_full*km.q.col_join(km.u).diff(t)-km.forcing_full\n",
    "eom.simplify()\n",
    "eom"
   ]
  },
  {
   "cell_type": "code",
   "execution_count": 69,
   "id": "e2c7f040",
   "metadata": {},
   "outputs": [],
   "source": []
  }
 ],
 "metadata": {
  "kernelspec": {
   "display_name": "Python 3 (ipykernel)",
   "language": "python",
   "name": "python3"
  },
  "language_info": {
   "codemirror_mode": {
    "name": "ipython",
    "version": 3
   },
   "file_extension": ".py",
   "mimetype": "text/x-python",
   "name": "python",
   "nbconvert_exporter": "python",
   "pygments_lexer": "ipython3",
   "version": "3.8.3"
  }
 },
 "nbformat": 4,
 "nbformat_minor": 5
}
