{
 "cells": [
  {
   "cell_type": "code",
   "execution_count": null,
   "id": "07177569",
   "metadata": {},
   "outputs": [],
   "source": [
    "#6. Formulacion cinetica de lagrange"
   ]
  },
  {
   "cell_type": "code",
   "execution_count": 37,
   "id": "c1ad3fae",
   "metadata": {},
   "outputs": [],
   "source": [
    "from sympy import symbols, sin\n",
    "from sympy.physics.mechanics import ReferenceFrame, inertia, Point, RigidBody, dynamicsymbols, LagrangesMethod"
   ]
  },
  {
   "cell_type": "code",
   "execution_count": 63,
   "id": "aac3e02d",
   "metadata": {},
   "outputs": [],
   "source": [
    "# Para el ejemplo del movimiento de un cilindro sobre una rampa\n",
    "t,m,g,I,R,theta,=symbols('t,m,g,I,R,theta')\n",
    "q1,q2=dynamicsymbols('q1,q2')\n",
    "\n",
    "a=ReferenceFrame('A')\n",
    "d=a.orientnew('D','Axis',(theta,a.z))\n",
    "c=a.orientnew('C','Axis',(q2,a.z))\n",
    "\n",
    "#Defina puntos de interes y velocidades\n",
    "o=Point('O')\n",
    "c_com=o.locatenew('C_com',a.x*q1)\n",
    "o.set_vel(a,0)\n",
    "c_com.set_vel(c,0)\n",
    "\n",
    "Ic=inertia(c,0,0,I)\n",
    "\n",
    "#Defina un cuerpo rigido para el cilindro\n",
    "body_cilindro=RigidBody('cilindro',c_com,c,m,(Ic,c_com))\n",
    "\n",
    "\n",
    "V=m*g*q1*sin(theta)\n",
    "T=body_cilindro.kinetic_energy(a)"
   ]
  },
  {
   "cell_type": "code",
   "execution_count": 36,
   "id": "3cc27c0f",
   "metadata": {},
   "outputs": [
    {
     "data": {
      "text/latex": [
       "$\\displaystyle \\frac{I \\left(\\frac{d}{d t} \\operatorname{q_{2}}{\\left(t \\right)}\\right)^{2}}{2} - g m \\operatorname{q_{1}}{\\left(t \\right)} \\sin{\\left(\\theta \\right)} + \\frac{m \\left(\\frac{d}{d t} \\operatorname{q_{1}}{\\left(t \\right)}\\right)^{2}}{2}$"
      ],
      "text/plain": [
       "I*Derivative(q2(t), t)**2/2 - g*m*q1(t)*sin(theta) + m*Derivative(q1(t), t)**2/2"
      ]
     },
     "execution_count": 36,
     "metadata": {},
     "output_type": "execute_result"
    }
   ],
   "source": [
    "#Calcule el Lagrangiano\n",
    "L=T-V"
   ]
  },
  {
   "cell_type": "code",
   "execution_count": 66,
   "id": "9f92e793",
   "metadata": {},
   "outputs": [
    {
     "data": {
      "text/latex": [
       "$\\displaystyle \\left[\\begin{matrix}g m \\sin{\\left(\\theta \\right)} + m \\frac{d^{2}}{d t^{2}} \\operatorname{q_{1}}{\\left(t \\right)} + \\operatorname{lam_{1}}{\\left(t \\right)}\\\\I \\frac{d^{2}}{d t^{2}} \\operatorname{q_{2}}{\\left(t \\right)} - R \\operatorname{lam_{1}}{\\left(t \\right)}\\end{matrix}\\right]$"
      ],
      "text/plain": [
       "Matrix([\n",
       "[g*m*sin(theta) + m*Derivative(q1(t), (t, 2)) + lam1(t)],\n",
       "[               I*Derivative(q2(t), (t, 2)) - R*lam1(t)]])"
      ]
     },
     "execution_count": 66,
     "metadata": {},
     "output_type": "execute_result"
    }
   ],
   "source": [
    "# Utilice el metodo de Lagrange para obtener las equaciones de movimiento\n",
    "lm=LagrangesMethod(L,[q1,q2],nonhol_coneqs=[q1.diff(t)-q2.diff(t)*R])\n",
    "#Observe que se define lambda1 (multiplicador de Lagrange)\n",
    "lm.form_lagranges_equations()"
   ]
  },
  {
   "cell_type": "code",
   "execution_count": 71,
   "id": "7d8ce3b7",
   "metadata": {},
   "outputs": [],
   "source": [
    "lm.rhs"
   ]
  }
 ],
 "metadata": {
  "kernelspec": {
   "display_name": "Python 3 (ipykernel)",
   "language": "python",
   "name": "python3"
  },
  "language_info": {
   "codemirror_mode": {
    "name": "ipython",
    "version": 3
   },
   "file_extension": ".py",
   "mimetype": "text/x-python",
   "name": "python",
   "nbconvert_exporter": "python",
   "pygments_lexer": "ipython3",
   "version": "3.10.1"
  }
 },
 "nbformat": 4,
 "nbformat_minor": 5
}
