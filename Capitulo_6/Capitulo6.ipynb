{
 "cells": [
  {
   "cell_type": "code",
   "execution_count": 1,
   "id": "07177569",
   "metadata": {},
   "outputs": [],
   "source": [
    "#6. Formulacion cinetica de lagrange"
   ]
  },
  {
   "cell_type": "code",
   "execution_count": 2,
   "id": "c1ad3fae",
   "metadata": {},
   "outputs": [],
   "source": [
    "from sympy import symbols, sin, cos\n",
    "from sympy.physics.mechanics import ReferenceFrame, inertia, Point, dynamicsymbols\n",
    "from sympy.physics.mechanics import RigidBody, LagrangesMethod, Lagrangian\n",
    "import numpy as np"
   ]
  },
  {
   "cell_type": "code",
   "execution_count": 3,
   "id": "aac3e02d",
   "metadata": {},
   "outputs": [],
   "source": [
    "# Para el ejemplo del movimiento de un cilindro sobre una rampa\n",
    "t,m,g,I,R,theta,=symbols('t,m,g,I,R,theta')\n",
    "q1,q2=dynamicsymbols('q1,q2')\n",
    "\n",
    "a=ReferenceFrame('A')\n",
    "d=a.orientnew('D','Axis',(theta,a.z))\n",
    "c=d.orientnew('C','Axis',(q2,d.z))\n",
    "\n",
    "#Defina puntos de interés y velocidades\n",
    "o=Point('O')\n",
    "c_com=o.locatenew('C_com',d.x*q1)\n",
    "o.set_vel(a,0)\n",
    "c_com.set_vel(c,0)\n",
    "\n",
    "Ic=inertia(c,0,0,I)\n",
    "\n",
    "#Defina un cuerpo rígido para el cilindro\n",
    "body_cilindro=RigidBody('cilindro',c_com,c,m,(Ic,c_com))\n",
    "\n",
    "\n",
    "V=m*g*q1*sin(theta)\n",
    "T=body_cilindro.kinetic_energy(a)"
   ]
  },
  {
   "cell_type": "code",
   "execution_count": 4,
   "id": "3cc27c0f",
   "metadata": {},
   "outputs": [],
   "source": [
    "#Calcule el Lagrangiano\n",
    "L=T-V"
   ]
  },
  {
   "cell_type": "code",
   "execution_count": 5,
   "id": "9f92e793",
   "metadata": {},
   "outputs": [
    {
     "data": {
      "text/latex": [
       "$\\displaystyle \\left[\\begin{matrix}g m \\sin{\\left(\\theta \\right)} + m \\frac{d^{2}}{d t^{2}} \\operatorname{q_{1}}{\\left(t \\right)} + \\operatorname{lam_{1}}{\\left(t \\right)}\\\\I \\frac{d^{2}}{d t^{2}} \\operatorname{q_{2}}{\\left(t \\right)} - R \\operatorname{lam_{1}}{\\left(t \\right)}\\end{matrix}\\right]$"
      ],
      "text/plain": [
       "Matrix([\n",
       "[g*m*sin(theta) + m*Derivative(q1(t), (t, 2)) + lam1(t)],\n",
       "[               I*Derivative(q2(t), (t, 2)) - R*lam1(t)]])"
      ]
     },
     "execution_count": 5,
     "metadata": {},
     "output_type": "execute_result"
    }
   ],
   "source": [
    "# Utilice el método de Lagrange para obtener las equaciones de movimiento\n",
    "lm=LagrangesMethod(L,[q1,q2],nonhol_coneqs=[q1.diff(t)-q2.diff(t)*R])\n",
    "#Observe que se define lambda1 (multiplicador de Lagrange)\n",
    "lm.form_lagranges_equations()"
   ]
  },
  {
   "cell_type": "code",
   "execution_count": 6,
   "id": "7d8ce3b7",
   "metadata": {},
   "outputs": [
    {
     "data": {
      "text/latex": [
       "$\\displaystyle \\left[\\begin{matrix}0\\\\0\\\\g m \\sin{\\left(\\theta \\right)} + m \\frac{d^{2}}{d t^{2}} \\operatorname{q_{1}}{\\left(t \\right)} - \\operatorname{lam_{1}}{\\left(t \\right)}\\\\I \\frac{d^{2}}{d t^{2}} \\operatorname{q_{2}}{\\left(t \\right)} + R \\operatorname{lam_{1}}{\\left(t \\right)}\\\\- R \\frac{d^{2}}{d t^{2}} \\operatorname{q_{2}}{\\left(t \\right)} + \\frac{d^{2}}{d t^{2}} \\operatorname{q_{1}}{\\left(t \\right)}\\end{matrix}\\right]$"
      ],
      "text/plain": [
       "Matrix([\n",
       "[                                                       0],\n",
       "[                                                       0],\n",
       "[  g*m*sin(theta) + m*Derivative(q1(t), (t, 2)) - lam1(t)],\n",
       "[                 I*Derivative(q2(t), (t, 2)) + R*lam1(t)],\n",
       "[-R*Derivative(q2(t), (t, 2)) + Derivative(q1(t), (t, 2))]])"
      ]
     },
     "execution_count": 6,
     "metadata": {},
     "output_type": "execute_result"
    }
   ],
   "source": [
    "# Observe las equaciones de movimiento descritas en la forma MM(q,q')[q' q'' lambda]=[F(q,q') constraints]\n",
    "MM=lm.mass_matrix_full\n",
    "F=lm.forcing_full\n",
    "# Defina el vector xdot como [q' q'' lambda] (expandiendo con lambda)\n",
    "xdot=lm.q.col_join(lm.u).diff(t)\n",
    "xdot=xdot.col_join(lm.lam_vec)\n",
    "MM*(xdot)-F # ==0"
   ]
  },
  {
   "cell_type": "code",
   "execution_count": 7,
   "id": "d7cf182f",
   "metadata": {},
   "outputs": [
    {
     "data": {
      "text/latex": [
       "$\\displaystyle \\frac{Ia \\left(\\frac{d}{d t} \\operatorname{q_{2}}{\\left(t \\right)}\\right)^{2}}{2} + \\frac{Ir \\left(\\frac{d}{d t} \\operatorname{q_{1}}{\\left(t \\right)}\\right)^{2}}{2} - g mc \\left(d \\sin{\\left(\\operatorname{q_{1}}{\\left(t \\right)} \\right)} - h \\cos{\\left(\\operatorname{q_{1}}{\\left(t \\right)} \\right)} + h\\right) + \\frac{mc \\left(d^{2} + h^{2}\\right) \\left(\\frac{d}{d t} \\operatorname{q_{1}}{\\left(t \\right)}\\right)^{2}}{2}$"
      ],
      "text/plain": [
       "Ia*Derivative(q2(t), t)**2/2 + Ir*Derivative(q1(t), t)**2/2 - g*mc*(d*sin(q1(t)) - h*cos(q1(t)) + h) + mc*(d**2 + h**2)*Derivative(q1(t), t)**2/2"
      ]
     },
     "execution_count": 7,
     "metadata": {},
     "output_type": "execute_result"
    }
   ],
   "source": [
    "# Para el ejemplo del modelo de un tren de aterrizaje\n",
    "\n",
    "# Defina las variables de movimiento\n",
    "# y parametros del modelo\n",
    "q1,q2=dynamicsymbols('q1,q2')\n",
    "# Parámetros del modelo\n",
    "h,d,mb,mc,Ia,Ir,g=symbols('h,d,mb,mc,Ia,Ir,g')\n",
    "\n",
    "#Marcos de referencia\n",
    "a=ReferenceFrame('A')\n",
    "b=a.orientnew('B','Axis',(q1,a.z))\n",
    "c=b.orientnew('C','Axis',(q2,b.x))\n",
    "\n",
    "# Puntos de interes\n",
    "o=Point('O')\n",
    "b_com=o.locatenew('Bcom',-h*b.y/2)\n",
    "b_end=o.locatenew('Bend',-h*b.y)\n",
    "c_com=b_end.locatenew('Ccom',d*b.x)\n",
    "\n",
    "# Defina la velocidad de cada punto\n",
    "o.set_vel(a,0)\n",
    "b_com.set_vel(b,0)\n",
    "c_com.set_vel(c,0)\n",
    "b_com.v2pt_theory(o,a,b)\n",
    "c_com.v2pt_theory(b_end,b,c)\n",
    "\n",
    "#Propiedades inerciales\n",
    "ic=inertia(c, Ia, Ir, Ir)\n",
    "\n",
    "# Cuerpos rígidos\n",
    "body_llanta=RigidBody('llanta',c_com,c,mc,(ic,c_com))\n",
    "\n",
    "# En el ejemplo anterior calculo el Lagrangiano definiendo explícitamente L=T-V\n",
    "# en este caso utilice el método Lagrangian\n",
    "body_llanta.potential_energy=mc*g*(h-h*cos(q1)+d*sin(q1))\n",
    "L=Lagrangian(a,body_llanta).simplify()\n",
    "L"
   ]
  },
  {
   "cell_type": "code",
   "execution_count": 8,
   "id": "4b7c4bce",
   "metadata": {},
   "outputs": [
    {
     "data": {
      "text/latex": [
       "$\\displaystyle \\left[\\begin{matrix}Ir \\frac{d^{2}}{d t^{2}} \\operatorname{q_{1}}{\\left(t \\right)} - M_{3} + g mc \\left(d \\cos{\\left(\\operatorname{q_{1}}{\\left(t \\right)} \\right)} + h \\sin{\\left(\\operatorname{q_{1}}{\\left(t \\right)} \\right)}\\right) + mc \\left(d^{2} + h^{2}\\right) \\frac{d^{2}}{d t^{2}} \\operatorname{q_{1}}{\\left(t \\right)}\\\\Ia \\frac{d^{2}}{d t^{2}} \\operatorname{q_{2}}{\\left(t \\right)}\\end{matrix}\\right]$"
      ],
      "text/plain": [
       "Matrix([\n",
       "[Ir*Derivative(q1(t), (t, 2)) - M3 + g*mc*(d*cos(q1(t)) + h*sin(q1(t))) + mc*(d**2 + h**2)*Derivative(q1(t), (t, 2))],\n",
       "[                                                                                       Ia*Derivative(q2(t), (t, 2))]])"
      ]
     },
     "execution_count": 8,
     "metadata": {},
     "output_type": "execute_result"
    }
   ],
   "source": [
    "# Defina el escalar M3 como el momento externo sobre el marco B\n",
    "M3=symbols('M3')\n",
    "lm=LagrangesMethod(L,[q1,q2],forcelist=[(b,M3*b.z)],frame=a)\n",
    "lm.form_lagranges_equations()"
   ]
  }
 ],
 "metadata": {
  "kernelspec": {
   "display_name": "Python 3 (ipykernel)",
   "language": "python",
   "name": "python3"
  },
  "language_info": {
   "codemirror_mode": {
    "name": "ipython",
    "version": 3
   },
   "file_extension": ".py",
   "mimetype": "text/x-python",
   "name": "python",
   "nbconvert_exporter": "python",
   "pygments_lexer": "ipython3",
   "version": "3.8.3"
  }
 },
 "nbformat": 4,
 "nbformat_minor": 5
}
