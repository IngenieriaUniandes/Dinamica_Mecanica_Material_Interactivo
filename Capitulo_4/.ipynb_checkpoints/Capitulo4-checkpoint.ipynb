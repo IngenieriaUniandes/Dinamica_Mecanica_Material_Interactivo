{
 "cells": [
  {
   "cell_type": "code",
   "execution_count": 1,
   "id": "99d9c464",
   "metadata": {},
   "outputs": [],
   "source": [
    "from sympy import symbols,sqrt\n",
    "from sympy.physics.mechanics import Point,ReferenceFrame,dynamicsymbols,Particle\n",
    "from sympy import pprint\n",
    "from sympy.physics.mechanics import inertia\n",
    "from sympy import Matrix\n",
    "from sympy import sin,cos"
   ]
  },
  {
   "cell_type": "code",
   "execution_count": null,
   "id": "3a604811",
   "metadata": {},
   "outputs": [],
   "source": [
    "## 4. Propiedades de masa e inercia"
   ]
  },
  {
   "cell_type": "code",
   "execution_count": null,
   "id": "72cbab4b",
   "metadata": {},
   "outputs": [],
   "source": [
    "## 4.1 Centro de masa"
   ]
  },
  {
   "cell_type": "code",
   "execution_count": 19,
   "id": "03a8dd42",
   "metadata": {},
   "outputs": [
    {
     "data": {
      "text/latex": [
       "$\\displaystyle (\\frac{l_{2} \\left(m_{1} + 2 m_{2}\\right) \\cos{\\left(\\operatorname{q_{1}}{\\left(t \\right)} \\right)}}{2 \\left(m_{1} + m_{2} + m_{3}\\right)} + \\frac{l_{3} \\left(m_{2} + 2 m_{3}\\right) \\left(- \\sin{\\left(\\operatorname{q_{1}}{\\left(t \\right)} \\right)} \\sin{\\left(\\operatorname{q_{2}}{\\left(t \\right)} \\right)} + \\cos{\\left(\\operatorname{q_{1}}{\\left(t \\right)} \\right)} \\cos{\\left(\\operatorname{q_{2}}{\\left(t \\right)} \\right)}\\right)}{2 \\left(m_{1} + m_{2} + m_{3}\\right)})\\mathbf{\\hat{a}_x} + (\\frac{l_{2} \\left(m_{1} + 2 m_{2}\\right) \\sin{\\left(\\operatorname{q_{1}}{\\left(t \\right)} \\right)}}{2 \\left(m_{1} + m_{2} + m_{3}\\right)} + \\frac{l_{3} \\left(m_{2} + 2 m_{3}\\right) \\left(\\sin{\\left(\\operatorname{q_{1}}{\\left(t \\right)} \\right)} \\cos{\\left(\\operatorname{q_{2}}{\\left(t \\right)} \\right)} + \\sin{\\left(\\operatorname{q_{2}}{\\left(t \\right)} \\right)} \\cos{\\left(\\operatorname{q_{1}}{\\left(t \\right)} \\right)}\\right)}{2 \\left(m_{1} + m_{2} + m_{3}\\right)})\\mathbf{\\hat{a}_y} -  \\frac{m_{3} \\operatorname{q_{3}}{\\left(t \\right)}}{m_{1} + m_{2} + m_{3}}\\mathbf{\\hat{a}_z}$"
      ],
      "text/plain": [
       "(l2*(m1 + 2*m2)*cos(q1(t))/(2*(m1 + m2 + m3)) + l3*(m2 + 2*m3)*(-sin(q1(t))*sin(q2(t)) + cos(q1(t))*cos(q2(t)))/(2*(m1 + m2 + m3)))*A.x + (l2*(m1 + 2*m2)*sin(q1(t))/(2*(m1 + m2 + m3)) + l3*(m2 + 2*m3)*(sin(q1(t))*cos(q2(t)) + sin(q2(t))*cos(q1(t)))/(2*(m1 + m2 + m3)))*A.y - m3*q3(t)/(m1 + m2 + m3)*A.z"
      ]
     },
     "execution_count": 19,
     "metadata": {},
     "output_type": "execute_result"
    }
   ],
   "source": [
    "# Exprese la ubicación del centro de masa de la parte móvil del robot scara\n",
    "# en función de q1,q2,q3.\n",
    "\n",
    "# Defina variables de movimiento y parámetros del modelo para el \n",
    "q1,q2,q3=dynamicsymbols('q1,q2,q3')\n",
    "l1,l2,l3=symbols('l1,l2,l3')\n",
    "\n",
    "# Defina los marcos y puntos de interes en el robot\n",
    "a=ReferenceFrame('A')\n",
    "o=Point('O')\n",
    "b=a.orientnew('B','Axis',(q1,a.z))\n",
    "p=o.locatenew('P',l1*a.z)\n",
    "c=b.orientnew('C','Axis',(q2,b.z))\n",
    "q=p.locatenew('Q',l2*b.x)\n",
    "r=p.locatenew('R',l3*c.x)\n",
    "s=r.locatenew('Q',-q3*c.z)\n",
    "\n",
    "# defina variables para la masa\n",
    "m1,m2,m3=symbols('m1,m2,m3') #masa de brazo movil1, movil2, y ventosa (m3).\n",
    "com1=l2*b.x/2\n",
    "com2=q.pos_from(p)+l3*c.x/2\n",
    "com3=s.pos_from(p)\n",
    "com=((m1*com1+m2*com2+m3*com3)/(m1+m2+m3)).simplify()\n",
    "\n",
    "# Puede expresar com explicitamente en qi al calcular respecto a vectores unitarios en A\n",
    "com.express(a)"
   ]
  },
  {
   "cell_type": "code",
   "execution_count": 15,
   "id": "479b2404",
   "metadata": {},
   "outputs": [
    {
     "data": {
      "text/latex": [
       "$\\displaystyle \\frac{l_{2} \\left(m_{1} + 2 m_{2}\\right)}{2 \\left(m_{1} + m_{2} + m_{3}\\right)}\\mathbf{\\hat{b}_x} + \\frac{l_{3} \\left(m_{2} + 2 m_{3}\\right)}{2 \\left(m_{1} + m_{2} + m_{3}\\right)}\\mathbf{\\hat{c}_x} -  \\frac{m_{3} \\operatorname{q_{3}}{\\left(t \\right)}}{m_{1} + m_{2} + m_{3}}\\mathbf{\\hat{c}_z}$"
      ],
      "text/plain": [
       "l2*(m1 + 2*m2)/(2*(m1 + m2 + m3))*B.x + l3*(m2 + 2*m3)/(2*(m1 + m2 + m3))*C.x - m3*q3(t)/(m1 + m2 + m3)*C.z"
      ]
     },
     "execution_count": 15,
     "metadata": {},
     "output_type": "execute_result"
    }
   ],
   "source": [
    "com"
   ]
  },
  {
   "cell_type": "markdown",
   "id": "db838c97",
   "metadata": {},
   "source": [
    "## 4.2 Propiedades de inercia"
   ]
  },
  {
   "cell_type": "code",
   "execution_count": 51,
   "id": "7b210dcc",
   "metadata": {},
   "outputs": [
    {
     "name": "stdout",
     "output_type": "stream",
     "text": [
      "Iy   Iz\n",
      "── + ──\n",
      "2    2 \n",
      "Ix   Iz\n",
      "── + ──\n",
      "2    2 \n",
      "Iz\n",
      "──\n",
      "2 \n"
     ]
    }
   ],
   "source": [
    "# Ejemplo helice\n",
    "# Considere una hélice con propiedades de inercia definidas respecto al centro de masa en\n",
    "# el sistema de coordenadas definido por B.\n",
    "b=ReferenceFrame('B')\n",
    "# Defina las variables para los momentos de inercia (escalares)\n",
    "Ix,Iy,Iz=symbols('Ix,Iy,Iz') \n",
    "\n",
    "#Defina los vectores de inercia I1, I2, I3 (los productos de inercia son nulos en este ejemplo)\n",
    "I1=Ix*b.x \n",
    "I2=Iy*b.y\n",
    "I3=Iz*b.z\n",
    "\n",
    "#Defina los vectores unitarios\n",
    "na=sqrt(2)*(b.y+b.z)/2\n",
    "nb=sqrt(2)*(b.x+b.z)/2\n",
    "\n",
    "#Calcule los vectores de inercia respecto a na y nb\n",
    "Ia=na.dot(b.x)*I1+na.dot(b.y)*I2+na.dot(b.z)*I3\n",
    "Ib=nb.dot(b.x)*I1+nb.dot(b.y)*I2+nb.dot(b.z)*I3\n",
    "\n",
    "#Calcule los escalares de inercia\n",
    "Iaa=Ia.dot(na)\n",
    "Ibb=Ib.dot(nb)\n",
    "Iab=Ia.dot(nb)\n",
    "pprint(Iaa)\n",
    "pprint(Ibb)\n",
    "pprint(Iab)"
   ]
  },
  {
   "cell_type": "markdown",
   "id": "997356aa",
   "metadata": {},
   "source": [
    "## 4.2.3 Matrices y diádicas de inercia"
   ]
  },
  {
   "cell_type": "code",
   "execution_count": 64,
   "id": "19491dea",
   "metadata": {},
   "outputs": [
    {
     "data": {
      "text/latex": [
       "$\\displaystyle i_{11}\\mathbf{\\hat{n}_x}\\otimes \\mathbf{\\hat{n}_x} + i_{12}\\mathbf{\\hat{n}_x}\\otimes \\mathbf{\\hat{n}_y} + i_{23}\\mathbf{\\hat{n}_x}\\otimes \\mathbf{\\hat{n}_z} + i_{12}\\mathbf{\\hat{n}_y}\\otimes \\mathbf{\\hat{n}_x} + i_{22}\\mathbf{\\hat{n}_y}\\otimes \\mathbf{\\hat{n}_y} + i_{13}\\mathbf{\\hat{n}_y}\\otimes \\mathbf{\\hat{n}_z} + i_{23}\\mathbf{\\hat{n}_z}\\otimes \\mathbf{\\hat{n}_x} + i_{13}\\mathbf{\\hat{n}_z}\\otimes \\mathbf{\\hat{n}_y} + i_{33}\\mathbf{\\hat{n}_z}\\otimes \\mathbf{\\hat{n}_z}$"
      ],
      "text/plain": [
       "i11*(N.x|N.x) + i12*(N.x|N.y) + i23*(N.x|N.z) + i12*(N.y|N.x) + i22*(N.y|N.y) + i13*(N.y|N.z) + i23*(N.z|N.x) + i13*(N.z|N.y) + i33*(N.z|N.z)"
      ]
     },
     "execution_count": 64,
     "metadata": {},
     "output_type": "execute_result"
    }
   ],
   "source": [
    "# Puede utilizar la clase inertia para definir diádicas de inercia\n",
    "n=ReferenceFrame('N')\n",
    "O=Point('O')\n",
    "i11,i12,i13,i22,i23,i33=symbols('i11,i12,i13,i22,i23,i33')\n",
    "I=inertia(n,i11,i22,i33,i12,i13,i23)\n",
    "I"
   ]
  },
  {
   "cell_type": "code",
   "execution_count": 62,
   "id": "6e20dfe7",
   "metadata": {},
   "outputs": [
    {
     "data": {
      "text/latex": [
       "$\\displaystyle \\left[\\begin{matrix}i_{11} & i_{12} & i_{23}\\\\i_{12} & i_{22} & i_{13}\\\\i_{23} & i_{13} & i_{33}\\end{matrix}\\right]$"
      ],
      "text/plain": [
       "Matrix([\n",
       "[i11, i12, i23],\n",
       "[i12, i22, i13],\n",
       "[i23, i13, i33]])"
      ]
     },
     "execution_count": 62,
     "metadata": {},
     "output_type": "execute_result"
    }
   ],
   "source": [
    "# Puede usar la representación matricial con el método to_matrix\n",
    "I.to_matrix(n)"
   ]
  },
  {
   "cell_type": "code",
   "execution_count": 75,
   "id": "f862fd8e",
   "metadata": {},
   "outputs": [
    {
     "data": {
      "text/latex": [
       "$\\displaystyle \\left[\\begin{matrix}r_{11} \\left(i_{11} r_{11} + i_{12} r_{12} + i_{23} r_{13}\\right) + r_{12} \\left(i_{12} r_{11} + i_{13} r_{13} + i_{22} r_{12}\\right) + r_{13} \\left(i_{13} r_{12} + i_{23} r_{11} + i_{33} r_{13}\\right) & - r_{12} \\left(i_{11} r_{11} + i_{12} r_{12} + i_{23} r_{13}\\right) + r_{22} \\left(i_{12} r_{11} + i_{13} r_{13} + i_{22} r_{12}\\right) + r_{23} \\left(i_{13} r_{12} + i_{23} r_{11} + i_{33} r_{13}\\right) & - r_{13} \\left(i_{11} r_{11} + i_{12} r_{12} + i_{23} r_{13}\\right) - r_{23} \\left(i_{12} r_{11} + i_{13} r_{13} + i_{22} r_{12}\\right) + r_{33} \\left(i_{13} r_{12} + i_{23} r_{11} + i_{33} r_{13}\\right)\\\\r_{11} \\left(- i_{11} r_{12} + i_{12} r_{22} + i_{23} r_{23}\\right) + r_{12} \\left(- i_{12} r_{12} + i_{13} r_{23} + i_{22} r_{22}\\right) + r_{13} \\left(i_{13} r_{22} - i_{23} r_{12} + i_{33} r_{23}\\right) & - r_{12} \\left(- i_{11} r_{12} + i_{12} r_{22} + i_{23} r_{23}\\right) + r_{22} \\left(- i_{12} r_{12} + i_{13} r_{23} + i_{22} r_{22}\\right) + r_{23} \\left(i_{13} r_{22} - i_{23} r_{12} + i_{33} r_{23}\\right) & - r_{13} \\left(- i_{11} r_{12} + i_{12} r_{22} + i_{23} r_{23}\\right) - r_{23} \\left(- i_{12} r_{12} + i_{13} r_{23} + i_{22} r_{22}\\right) + r_{33} \\left(i_{13} r_{22} - i_{23} r_{12} + i_{33} r_{23}\\right)\\\\r_{11} \\left(- i_{11} r_{13} - i_{12} r_{23} + i_{23} r_{33}\\right) + r_{12} \\left(- i_{12} r_{13} + i_{13} r_{33} - i_{22} r_{23}\\right) + r_{13} \\left(- i_{13} r_{23} - i_{23} r_{13} + i_{33} r_{33}\\right) & - r_{12} \\left(- i_{11} r_{13} - i_{12} r_{23} + i_{23} r_{33}\\right) + r_{22} \\left(- i_{12} r_{13} + i_{13} r_{33} - i_{22} r_{23}\\right) + r_{23} \\left(- i_{13} r_{23} - i_{23} r_{13} + i_{33} r_{33}\\right) & - r_{13} \\left(- i_{11} r_{13} - i_{12} r_{23} + i_{23} r_{33}\\right) - r_{23} \\left(- i_{12} r_{13} + i_{13} r_{33} - i_{22} r_{23}\\right) + r_{33} \\left(- i_{13} r_{23} - i_{23} r_{13} + i_{33} r_{33}\\right)\\end{matrix}\\right]$"
      ],
      "text/plain": [
       "Matrix([\n",
       "[   r11*(i11*r11 + i12*r12 + i23*r13) + r12*(i12*r11 + i13*r13 + i22*r12) + r13*(i13*r12 + i23*r11 + i33*r13),    -r12*(i11*r11 + i12*r12 + i23*r13) + r22*(i12*r11 + i13*r13 + i22*r12) + r23*(i13*r12 + i23*r11 + i33*r13),    -r13*(i11*r11 + i12*r12 + i23*r13) - r23*(i12*r11 + i13*r13 + i22*r12) + r33*(i13*r12 + i23*r11 + i33*r13)],\n",
       "[ r11*(-i11*r12 + i12*r22 + i23*r23) + r12*(-i12*r12 + i13*r23 + i22*r22) + r13*(i13*r22 - i23*r12 + i33*r23),  -r12*(-i11*r12 + i12*r22 + i23*r23) + r22*(-i12*r12 + i13*r23 + i22*r22) + r23*(i13*r22 - i23*r12 + i33*r23),  -r13*(-i11*r12 + i12*r22 + i23*r23) - r23*(-i12*r12 + i13*r23 + i22*r22) + r33*(i13*r22 - i23*r12 + i33*r23)],\n",
       "[r11*(-i11*r13 - i12*r23 + i23*r33) + r12*(-i12*r13 + i13*r33 - i22*r23) + r13*(-i13*r23 - i23*r13 + i33*r33), -r12*(-i11*r13 - i12*r23 + i23*r33) + r22*(-i12*r13 + i13*r33 - i22*r23) + r23*(-i13*r23 - i23*r13 + i33*r33), -r13*(-i11*r13 - i12*r23 + i23*r33) - r23*(-i12*r13 + i13*r33 - i22*r23) + r33*(-i13*r23 - i23*r13 + i33*r33)]])"
      ]
     },
     "execution_count": 75,
     "metadata": {},
     "output_type": "execute_result"
    }
   ],
   "source": [
    "r11,r12,r13,r22,r23,r33=symbols('r11,r12,r13,r22,r23,r33')\n",
    "b=n.orientnew('B','DCM',Matrix([[r11,-r12,-r13],[r12,r22,-r23],[r13,r23,r33]]))\n",
    "# Puede expresar la matriz respecto a otro marco de referencia\n",
    "I.to_matrix(b)"
   ]
  },
  {
   "cell_type": "code",
   "execution_count": 78,
   "id": "3e067f60",
   "metadata": {},
   "outputs": [
    {
     "data": {
      "text/latex": [
       "$\\displaystyle \\left[\\begin{matrix}r_{11} \\left(i_{11} r_{11} + i_{12} r_{12} + i_{23} r_{13}\\right) + r_{12} \\left(i_{12} r_{11} + i_{13} r_{13} + i_{22} r_{12}\\right) + r_{13} \\left(i_{13} r_{12} + i_{23} r_{11} + i_{33} r_{13}\\right) & - r_{12} \\left(i_{11} r_{11} + i_{12} r_{12} + i_{23} r_{13}\\right) + r_{22} \\left(i_{12} r_{11} + i_{13} r_{13} + i_{22} r_{12}\\right) + r_{23} \\left(i_{13} r_{12} + i_{23} r_{11} + i_{33} r_{13}\\right) & - r_{13} \\left(i_{11} r_{11} + i_{12} r_{12} + i_{23} r_{13}\\right) - r_{23} \\left(i_{12} r_{11} + i_{13} r_{13} + i_{22} r_{12}\\right) + r_{33} \\left(i_{13} r_{12} + i_{23} r_{11} + i_{33} r_{13}\\right)\\\\r_{11} \\left(- i_{11} r_{12} + i_{12} r_{22} + i_{23} r_{23}\\right) + r_{12} \\left(- i_{12} r_{12} + i_{13} r_{23} + i_{22} r_{22}\\right) + r_{13} \\left(i_{13} r_{22} - i_{23} r_{12} + i_{33} r_{23}\\right) & - r_{12} \\left(- i_{11} r_{12} + i_{12} r_{22} + i_{23} r_{23}\\right) + r_{22} \\left(- i_{12} r_{12} + i_{13} r_{23} + i_{22} r_{22}\\right) + r_{23} \\left(i_{13} r_{22} - i_{23} r_{12} + i_{33} r_{23}\\right) & - r_{13} \\left(- i_{11} r_{12} + i_{12} r_{22} + i_{23} r_{23}\\right) - r_{23} \\left(- i_{12} r_{12} + i_{13} r_{23} + i_{22} r_{22}\\right) + r_{33} \\left(i_{13} r_{22} - i_{23} r_{12} + i_{33} r_{23}\\right)\\\\r_{11} \\left(- i_{11} r_{13} - i_{12} r_{23} + i_{23} r_{33}\\right) + r_{12} \\left(- i_{12} r_{13} + i_{13} r_{33} - i_{22} r_{23}\\right) + r_{13} \\left(- i_{13} r_{23} - i_{23} r_{13} + i_{33} r_{33}\\right) & - r_{12} \\left(- i_{11} r_{13} - i_{12} r_{23} + i_{23} r_{33}\\right) + r_{22} \\left(- i_{12} r_{13} + i_{13} r_{33} - i_{22} r_{23}\\right) + r_{23} \\left(- i_{13} r_{23} - i_{23} r_{13} + i_{33} r_{33}\\right) & - r_{13} \\left(- i_{11} r_{13} - i_{12} r_{23} + i_{23} r_{33}\\right) - r_{23} \\left(- i_{12} r_{13} + i_{13} r_{33} - i_{22} r_{23}\\right) + r_{33} \\left(- i_{13} r_{23} - i_{23} r_{13} + i_{33} r_{33}\\right)\\end{matrix}\\right]$"
      ],
      "text/plain": [
       "Matrix([\n",
       "[   r11*(i11*r11 + i12*r12 + i23*r13) + r12*(i12*r11 + i13*r13 + i22*r12) + r13*(i13*r12 + i23*r11 + i33*r13),    -r12*(i11*r11 + i12*r12 + i23*r13) + r22*(i12*r11 + i13*r13 + i22*r12) + r23*(i13*r12 + i23*r11 + i33*r13),    -r13*(i11*r11 + i12*r12 + i23*r13) - r23*(i12*r11 + i13*r13 + i22*r12) + r33*(i13*r12 + i23*r11 + i33*r13)],\n",
       "[ r11*(-i11*r12 + i12*r22 + i23*r23) + r12*(-i12*r12 + i13*r23 + i22*r22) + r13*(i13*r22 - i23*r12 + i33*r23),  -r12*(-i11*r12 + i12*r22 + i23*r23) + r22*(-i12*r12 + i13*r23 + i22*r22) + r23*(i13*r22 - i23*r12 + i33*r23),  -r13*(-i11*r12 + i12*r22 + i23*r23) - r23*(-i12*r12 + i13*r23 + i22*r22) + r33*(i13*r22 - i23*r12 + i33*r23)],\n",
       "[r11*(-i11*r13 - i12*r23 + i23*r33) + r12*(-i12*r13 + i13*r33 - i22*r23) + r13*(-i13*r23 - i23*r13 + i33*r33), -r12*(-i11*r13 - i12*r23 + i23*r33) + r22*(-i12*r13 + i13*r33 - i22*r23) + r23*(-i13*r23 - i23*r13 + i33*r33), -r13*(-i11*r13 - i12*r23 + i23*r33) - r23*(-i12*r13 + i13*r33 - i22*r23) + r33*(-i13*r23 - i23*r13 + i33*r33)]])"
      ]
     },
     "execution_count": 78,
     "metadata": {},
     "output_type": "execute_result"
    }
   ],
   "source": [
    "# Lo que es equivalente a la operación de cambio de base (eq. 4.16)\n",
    "b.dcm(n)*I.to_matrix(n)*b.dcm(n).transpose()"
   ]
  },
  {
   "cell_type": "code",
   "execution_count": 99,
   "id": "51ab0d9f",
   "metadata": {},
   "outputs": [
    {
     "data": {
      "text/latex": [
       "$\\displaystyle \\left[\\begin{matrix}ix \\cos^{2}{\\left(q \\right)} + iy \\sin^{2}{\\left(q \\right)} & ix \\sin{\\left(q \\right)} \\cos{\\left(q \\right)} - iy \\sin{\\left(q \\right)} \\cos{\\left(q \\right)} & 0\\\\ix \\sin{\\left(q \\right)} \\cos{\\left(q \\right)} - iy \\sin{\\left(q \\right)} \\cos{\\left(q \\right)} & ix \\sin^{2}{\\left(q \\right)} + iy \\cos^{2}{\\left(q \\right)} & 0\\\\0 & 0 & iz\\end{matrix}\\right]$"
      ],
      "text/plain": [
       "Matrix([\n",
       "[        ix*cos(q)**2 + iy*sin(q)**2, ix*sin(q)*cos(q) - iy*sin(q)*cos(q),  0],\n",
       "[ix*sin(q)*cos(q) - iy*sin(q)*cos(q),         ix*sin(q)**2 + iy*cos(q)**2,  0],\n",
       "[                                  0,                                   0, iz]])"
      ]
     },
     "execution_count": 99,
     "metadata": {},
     "output_type": "execute_result"
    }
   ],
   "source": [
    "# Observe esto con el ejemplo de la hélice\n",
    "b=ReferenceFrame('B')\n",
    "O=Point('O')\n",
    "ix,iy,iz=symbols('ix,iy,iz')\n",
    "q=symbols('q')\n",
    "I=inertia(b,ix,iy,iz)\n",
    "a=b.orientnew('A','DCM',Matrix([[cos(q),sin(q),0],[-sin(q),cos(q),0],[0,0,1]]))\n",
    "# b.dcm(a) #Observe la matriz de rotación entre A y B (recuerde que en sympy dcm es definido por filas)\n",
    "I.to_matrix(a)"
   ]
  },
  {
   "cell_type": "code",
   "execution_count": 101,
   "id": "c3f51695",
   "metadata": {},
   "outputs": [
    {
     "data": {
      "text/latex": [
       "$\\displaystyle (ix \\cos^{2}{\\left(q \\right)} + iy \\sin^{2}{\\left(q \\right)})\\mathbf{\\hat{a}_x}\\otimes \\mathbf{\\hat{a}_x} + (ix \\sin{\\left(q \\right)} \\cos{\\left(q \\right)} - iy \\sin{\\left(q \\right)} \\cos{\\left(q \\right)})\\mathbf{\\hat{a}_x}\\otimes \\mathbf{\\hat{a}_y} + (ix \\sin{\\left(q \\right)} \\cos{\\left(q \\right)} - iy \\sin{\\left(q \\right)} \\cos{\\left(q \\right)})\\mathbf{\\hat{a}_y}\\otimes \\mathbf{\\hat{a}_x} + (ix \\sin^{2}{\\left(q \\right)} + iy \\cos^{2}{\\left(q \\right)})\\mathbf{\\hat{a}_y}\\otimes \\mathbf{\\hat{a}_y} + iz\\mathbf{\\hat{a}_z}\\otimes \\mathbf{\\hat{a}_z}$"
      ],
      "text/plain": [
       "(ix*cos(q)**2 + iy*sin(q)**2)*(A.x|A.x) + (ix*sin(q)*cos(q) - iy*sin(q)*cos(q))*(A.x|A.y) + (ix*sin(q)*cos(q) - iy*sin(q)*cos(q))*(A.y|A.x) + (ix*sin(q)**2 + iy*cos(q)**2)*(A.y|A.y) + iz*(A.z|A.z)"
      ]
     },
     "execution_count": 101,
     "metadata": {},
     "output_type": "execute_result"
    }
   ],
   "source": [
    "# Alternativamente puede utilizar algebra de diádicas para expresar la inercia en A\n",
    "I.express(a)"
   ]
  },
  {
   "cell_type": "code",
   "execution_count": null,
   "id": "f4812f48",
   "metadata": {},
   "outputs": [],
   "source": [
    "## 4.2.4 Teoremas de ejes paralelos"
   ]
  },
  {
   "cell_type": "code",
   "execution_count": 2,
   "id": "8e8b25f6",
   "metadata": {},
   "outputs": [],
   "source": [
    "# Para el ejemplo del quadricóptero calcule la inercia respecto al centro de masa de la base A\n",
    "a=ReferenceFrame('A')\n",
    "O=Point('O')\n",
    "# Defina variables de movimiento para cada hélice\n",
    "q1,q2,q3,q4=dynamicsymbols('q1,q2,q3,q4')\n",
    "# defina simbolos para los escalares\n",
    "mb,jx,jy,jz,ix,iy,iz,r=symbols('mb,jx,jy,jz,ix,iy,iz,r')\n",
    "\n",
    "# Defina el marco de referencia de cada hélice\n",
    "qi=[q1,q2,q3,q4]\n",
    "Bnames=['B{}'.format(i) for i in range(0,4)]\n",
    "blist=[a.orientnew(Bnames[i],'Axis',(qi[i],a.z)) for i in range(0,4)]\n",
    "\n",
    "# Defina la ubicacion de cada hélice en A\n",
    "# utilice la clase Particle para definir una masa puntual en cada Bi\n",
    "pnames=['P{}'.format(i) for i in range(0,4)]\n",
    "loclist=[a.x*r,a.y*r,-a.x*r,-a.y*r]\n",
    "plist=[O.locatenew(pnames[i],loclist[i]) for i in range(0,4)]\n",
    "particleList=[Particle(pnames[i],plist[i],mb) for i in range(0,4)]\n",
    "\n",
    "# Calcule la diádica de inercia de la base del cuadricóptero\n",
    "iaa=inertia(a,jx,jy,jz)\n",
    "# Calcule la diádica de inercia de la hélice en B\n",
    "ibbList=[inertia(bi,ix,iy,iz) for bi in blist]\n",
    "# Calcule la diádica de inercia de la masa puntual de cada hélice en A\n",
    "ibaList=[pi.parallel_axis(O,a) for pi in particleList]"
   ]
  },
  {
   "cell_type": "code",
   "execution_count": 4,
   "id": "712705ad",
   "metadata": {},
   "outputs": [
    {
     "data": {
      "text/latex": [
       "$\\displaystyle mb r^{2}\\mathbf{\\hat{a}_y}\\otimes \\mathbf{\\hat{a}_y} + mb r^{2}\\mathbf{\\hat{a}_z}\\otimes \\mathbf{\\hat{a}_z}$"
      ],
      "text/plain": [
       "mb*r**2*(A.y|A.y) + mb*r**2*(A.z|A.z)"
      ]
     },
     "execution_count": 4,
     "metadata": {},
     "output_type": "execute_result"
    }
   ],
   "source": [
    "# Observe cada término Ibi/A\n",
    "ibaList[0]\n",
    "#ibaList[1]\n",
    "#ibaList[2]\n",
    "#ibaList[3]"
   ]
  },
  {
   "cell_type": "code",
   "execution_count": 5,
   "id": "cd633842",
   "metadata": {},
   "outputs": [
    {
     "data": {
      "text/latex": [
       "$\\displaystyle (ix \\cos^{2}{\\left(\\operatorname{q_{1}}{\\left(t \\right)} \\right)} + ix \\cos^{2}{\\left(\\operatorname{q_{2}}{\\left(t \\right)} \\right)} + ix \\cos^{2}{\\left(\\operatorname{q_{3}}{\\left(t \\right)} \\right)} + ix \\cos^{2}{\\left(\\operatorname{q_{4}}{\\left(t \\right)} \\right)} + iy \\sin^{2}{\\left(\\operatorname{q_{1}}{\\left(t \\right)} \\right)} + iy \\sin^{2}{\\left(\\operatorname{q_{2}}{\\left(t \\right)} \\right)} + iy \\sin^{2}{\\left(\\operatorname{q_{3}}{\\left(t \\right)} \\right)} + iy \\sin^{2}{\\left(\\operatorname{q_{4}}{\\left(t \\right)} \\right)} + jx + 2 mb r^{2})\\mathbf{\\hat{a}_x}\\otimes \\mathbf{\\hat{a}_x} + (ix \\sin^{2}{\\left(\\operatorname{q_{1}}{\\left(t \\right)} \\right)} + ix \\sin^{2}{\\left(\\operatorname{q_{2}}{\\left(t \\right)} \\right)} + ix \\sin^{2}{\\left(\\operatorname{q_{3}}{\\left(t \\right)} \\right)} + ix \\sin^{2}{\\left(\\operatorname{q_{4}}{\\left(t \\right)} \\right)} + iy \\cos^{2}{\\left(\\operatorname{q_{1}}{\\left(t \\right)} \\right)} + iy \\cos^{2}{\\left(\\operatorname{q_{2}}{\\left(t \\right)} \\right)} + iy \\cos^{2}{\\left(\\operatorname{q_{3}}{\\left(t \\right)} \\right)} + iy \\cos^{2}{\\left(\\operatorname{q_{4}}{\\left(t \\right)} \\right)} + jy + 2 mb r^{2})\\mathbf{\\hat{a}_y}\\otimes \\mathbf{\\hat{a}_y} + (4 iz + jz + 4 mb r^{2})\\mathbf{\\hat{a}_z}\\otimes \\mathbf{\\hat{a}_z} + (\\frac{ix \\sin{\\left(2 \\operatorname{q_{1}}{\\left(t \\right)} \\right)}}{2} + \\frac{ix \\sin{\\left(2 \\operatorname{q_{2}}{\\left(t \\right)} \\right)}}{2} + \\frac{ix \\sin{\\left(2 \\operatorname{q_{3}}{\\left(t \\right)} \\right)}}{2} + \\frac{ix \\sin{\\left(2 \\operatorname{q_{4}}{\\left(t \\right)} \\right)}}{2} - \\frac{iy \\sin{\\left(2 \\operatorname{q_{1}}{\\left(t \\right)} \\right)}}{2} - \\frac{iy \\sin{\\left(2 \\operatorname{q_{2}}{\\left(t \\right)} \\right)}}{2} - \\frac{iy \\sin{\\left(2 \\operatorname{q_{3}}{\\left(t \\right)} \\right)}}{2} - \\frac{iy \\sin{\\left(2 \\operatorname{q_{4}}{\\left(t \\right)} \\right)}}{2})\\mathbf{\\hat{a}_x}\\otimes \\mathbf{\\hat{a}_y} + (\\frac{ix \\sin{\\left(2 \\operatorname{q_{1}}{\\left(t \\right)} \\right)}}{2} + \\frac{ix \\sin{\\left(2 \\operatorname{q_{2}}{\\left(t \\right)} \\right)}}{2} + \\frac{ix \\sin{\\left(2 \\operatorname{q_{3}}{\\left(t \\right)} \\right)}}{2} + \\frac{ix \\sin{\\left(2 \\operatorname{q_{4}}{\\left(t \\right)} \\right)}}{2} - \\frac{iy \\sin{\\left(2 \\operatorname{q_{1}}{\\left(t \\right)} \\right)}}{2} - \\frac{iy \\sin{\\left(2 \\operatorname{q_{2}}{\\left(t \\right)} \\right)}}{2} - \\frac{iy \\sin{\\left(2 \\operatorname{q_{3}}{\\left(t \\right)} \\right)}}{2} - \\frac{iy \\sin{\\left(2 \\operatorname{q_{4}}{\\left(t \\right)} \\right)}}{2})\\mathbf{\\hat{a}_y}\\otimes \\mathbf{\\hat{a}_x}$"
      ],
      "text/plain": [
       "(ix*cos(q1(t))**2 + ix*cos(q2(t))**2 + ix*cos(q3(t))**2 + ix*cos(q4(t))**2 + iy*sin(q1(t))**2 + iy*sin(q2(t))**2 + iy*sin(q3(t))**2 + iy*sin(q4(t))**2 + jx + 2*mb*r**2)*(A.x|A.x) + (ix*sin(q1(t))**2 + ix*sin(q2(t))**2 + ix*sin(q3(t))**2 + ix*sin(q4(t))**2 + iy*cos(q1(t))**2 + iy*cos(q2(t))**2 + iy*cos(q3(t))**2 + iy*cos(q4(t))**2 + jy + 2*mb*r**2)*(A.y|A.y) + (4*iz + jz + 4*mb*r**2)*(A.z|A.z) + (ix*sin(2*q1(t))/2 + ix*sin(2*q2(t))/2 + ix*sin(2*q3(t))/2 + ix*sin(2*q4(t))/2 - iy*sin(2*q1(t))/2 - iy*sin(2*q2(t))/2 - iy*sin(2*q3(t))/2 - iy*sin(2*q4(t))/2)*(A.x|A.y) + (ix*sin(2*q1(t))/2 + ix*sin(2*q2(t))/2 + ix*sin(2*q3(t))/2 + ix*sin(2*q4(t))/2 - iy*sin(2*q1(t))/2 - iy*sin(2*q2(t))/2 - iy*sin(2*q3(t))/2 - iy*sin(2*q4(t))/2)*(A.y|A.x)"
      ]
     },
     "execution_count": 5,
     "metadata": {},
     "output_type": "execute_result"
    }
   ],
   "source": [
    "# Para simplificar el código, defina una función para sumar todas las diádicas en una lista\n",
    "def sumlist(x):\n",
    "    total=x[0]\n",
    "    for xi in x[1:]:\n",
    "        total=total+xi\n",
    "    return total\n",
    "\n",
    "Icuad=iaa+sumlist(ibbList)+sumlist(ibaList)\n",
    "Icuad.express(a).simplify()"
   ]
  },
  {
   "cell_type": "code",
   "execution_count": 7,
   "id": "6ff1a7ba",
   "metadata": {},
   "outputs": [
    {
     "data": {
      "text/latex": [
       "$\\displaystyle (4 ix \\cos^{2}{\\left(\\operatorname{q_{1}}{\\left(t \\right)} \\right)} + 4 iy \\sin^{2}{\\left(\\operatorname{q_{1}}{\\left(t \\right)} \\right)} + jx + 2 mb r^{2})\\mathbf{\\hat{a}_x}\\otimes \\mathbf{\\hat{a}_x} + (4 ix \\sin^{2}{\\left(\\operatorname{q_{1}}{\\left(t \\right)} \\right)} + 4 iy \\cos^{2}{\\left(\\operatorname{q_{1}}{\\left(t \\right)} \\right)} + jy + 2 mb r^{2})\\mathbf{\\hat{a}_y}\\otimes \\mathbf{\\hat{a}_y} + (4 iz + jz + 4 mb r^{2})\\mathbf{\\hat{a}_z}\\otimes \\mathbf{\\hat{a}_z} + 2 \\left(ix - iy\\right) \\sin{\\left(2 \\operatorname{q_{1}}{\\left(t \\right)} \\right)}\\mathbf{\\hat{a}_x}\\otimes \\mathbf{\\hat{a}_y} + 2 \\left(ix - iy\\right) \\sin{\\left(2 \\operatorname{q_{1}}{\\left(t \\right)} \\right)}\\mathbf{\\hat{a}_y}\\otimes \\mathbf{\\hat{a}_x}$"
      ],
      "text/plain": [
       "(4*ix*cos(q1(t))**2 + 4*iy*sin(q1(t))**2 + jx + 2*mb*r**2)*(A.x|A.x) + (4*ix*sin(q1(t))**2 + 4*iy*cos(q1(t))**2 + jy + 2*mb*r**2)*(A.y|A.y) + (4*iz + jz + 4*mb*r**2)*(A.z|A.z) + 2*(ix - iy)*sin(2*q1(t))*(A.x|A.y) + 2*(ix - iy)*sin(2*q1(t))*(A.y|A.x)"
      ]
     },
     "execution_count": 7,
     "metadata": {},
     "output_type": "execute_result"
    }
   ],
   "source": [
    "# Suponiendo que las hélices se mueven sincronizadamente (q1=q2=q3=q4)\n",
    "Icuad.express(a).subs({q2:q1,q3:q1,q4:q1}).simplify()"
   ]
  }
 ],
 "metadata": {
  "kernelspec": {
   "display_name": "Python 3 (ipykernel)",
   "language": "python",
   "name": "python3"
  },
  "language_info": {
   "codemirror_mode": {
    "name": "ipython",
    "version": 3
   },
   "file_extension": ".py",
   "mimetype": "text/x-python",
   "name": "python",
   "nbconvert_exporter": "python",
   "pygments_lexer": "ipython3",
   "version": "3.8.3"
  }
 },
 "nbformat": 4,
 "nbformat_minor": 5
}
