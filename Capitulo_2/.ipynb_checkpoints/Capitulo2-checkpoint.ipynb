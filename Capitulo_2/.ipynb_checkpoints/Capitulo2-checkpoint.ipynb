{
 "cells": [
  {
   "cell_type": "code",
   "execution_count": 1,
   "id": "b697b967",
   "metadata": {},
   "outputs": [],
   "source": [
    "from sympy.physics.mechanics import ReferenceFrame,Point,dynamicsymbols\n",
    "from sympy.physics.mechanics import Point\n",
    "from sympy import latex,pprint,symbols,init_printing\n",
    "from sympy.algebras.quaternion import Quaternion\n",
    "import numpy as np\n",
    "init_printing() # Para visualizar simbolos"
   ]
  },
  {
   "cell_type": "markdown",
   "id": "5078488b",
   "metadata": {},
   "source": [
    "## 2.1 Representacion de la orientacion de cuerpos"
   ]
  },
  {
   "cell_type": "markdown",
   "id": "dcb507b1",
   "metadata": {},
   "source": [
    "## 2.1.1 Matrices de rotacion"
   ]
  },
  {
   "cell_type": "code",
   "execution_count": null,
   "id": "beb03389",
   "metadata": {},
   "outputs": [],
   "source": [
    "q1,q2=dynamicsymbols('q1,q2')\n",
    "a=ReferenceFrame('A')\n",
    "e=a.orientnew('E','Axis',(q1,a.y))\n",
    "b=e.orientnew('B','Axis',(q2,e.z))\n",
    "\n",
    "r1,r2,r3=symbols('r1,r2,r3')\n",
    "r=r1*b.x+r2*b.y+r3*b.z\n",
    "# Se define r por sus componentes en b\n",
    "r"
   ]
  },
  {
   "cell_type": "code",
   "execution_count": null,
   "id": "9a0a6b68",
   "metadata": {},
   "outputs": [],
   "source": [
    "# Recuerde que puede obtener las matrices de cosenos directores con el metodo dcm\n",
    "# Por ejemplo ^A R^b\n",
    "a.dcm(b) "
   ]
  },
  {
   "cell_type": "code",
   "execution_count": null,
   "id": "f52e7d0b",
   "metadata": {},
   "outputs": [],
   "source": [
    "# ^A R^e\n",
    "a.dcm(e)"
   ]
  },
  {
   "cell_type": "code",
   "execution_count": null,
   "id": "4f8be188",
   "metadata": {},
   "outputs": [],
   "source": [
    "# Ahora calcule el producto de las dos rotaciones\n",
    "a.dcm(e)*e.dcm(b)"
   ]
  },
  {
   "cell_type": "code",
   "execution_count": null,
   "id": "fce35c42",
   "metadata": {},
   "outputs": [],
   "source": [
    "# Obteniendo el mismo resultado con\n",
    "a.dcm(b)"
   ]
  },
  {
   "cell_type": "code",
   "execution_count": null,
   "id": "0e016de2",
   "metadata": {},
   "outputs": [],
   "source": [
    "# Con el sistema simbolico puede verificar la igualdad de dos expresiones\n",
    "a.dcm(e)*e.dcm(b)==a.dcm(b)"
   ]
  },
  {
   "cell_type": "code",
   "execution_count": null,
   "id": "b4ba79f1",
   "metadata": {},
   "outputs": [],
   "source": [
    "# Observe que el producto no es conmutativo\n",
    "e.dcm(b)*a.dcm(e)==a.dcm(b)"
   ]
  },
  {
   "cell_type": "markdown",
   "id": "5812b861",
   "metadata": {},
   "source": [
    "## Angulos de Euler"
   ]
  },
  {
   "cell_type": "code",
   "execution_count": null,
   "id": "fb3143d8",
   "metadata": {},
   "outputs": [],
   "source": [
    "a=ReferenceFrame('A')\n",
    "phi,theta,psi=symbols('phi,theta,psi')\n",
    "# Defina el marco de referencia D con rotaciones sucesivas XYZ\n",
    "d=a.orientnew('D','Body',(phi,theta,psi),'XYZ')\n",
    "# Esto es equivalente a tres rotaciones con marcos intermedios\n",
    "e1=a.orientnew('E1','Axis',(phi,a.x))\n",
    "e2=e1.orientnew('E2','Axis',(theta,e1.y))\n",
    "e3=e2.orientnew('E3','Axis',(psi,e2.z))\n",
    "\n",
    "print('rotx (^AR^E1):')\n",
    "pprint(a.dcm(e1))\n",
    "print('roty (^E1R^E2):')\n",
    "pprint(e1.dcm(e2))\n",
    "print('rotz (^E2R^E3):')\n",
    "pprint(e2.dcm(e3))"
   ]
  },
  {
   "cell_type": "code",
   "execution_count": null,
   "id": "8cda7cad",
   "metadata": {},
   "outputs": [],
   "source": [
    "#El producto de estas rotaciones corresponde a ^AR^D\n",
    "a.dcm(e1)*e1.dcm(e2)*e2.dcm(e3)\n",
    "#a.dcm(e3)"
   ]
  },
  {
   "cell_type": "markdown",
   "id": "51201bea",
   "metadata": {},
   "source": [
    "## 2.1.3 Rotaciones respecto a ejes fijos"
   ]
  },
  {
   "cell_type": "code",
   "execution_count": null,
   "id": "815838a9",
   "metadata": {},
   "outputs": [],
   "source": [
    "a=ReferenceFrame('A')\n",
    "phi,theta,psi=symbols('phi,theta,psi')\n",
    "# Defina el marco de referencia D con rotaciones en ejes fijos\n",
    "# En el orden psi (en ax), theta (en ay), phi (en az)\n",
    "b=a.orientnew('B','Space',(psi,theta,phi),'XYZ')\n",
    "a.dcm(b)"
   ]
  },
  {
   "cell_type": "markdown",
   "id": "94b4f2e8",
   "metadata": {},
   "source": [
    "## 2.1.4 Representacion eje-angulo"
   ]
  },
  {
   "cell_type": "code",
   "execution_count": null,
   "id": "cdc9b003",
   "metadata": {},
   "outputs": [],
   "source": [
    "a=ReferenceFrame('A')\n",
    "phi,nx,ny,nz=symbols('Phi,nx,ny,nz')\n",
    "# Defina el vector n con componentes en A\n",
    "n=nx*a.x+ny*a.y+nz*a.z\n",
    "b=a.orientnew('B','Axis',(phi,n))\n",
    "# Se utiliza el metodo subs para sustituir la norma L2 del vector como unitaria.\n",
    "a.dcm(b).simplify().subs(nx**2+ny**2+nz**2,1)"
   ]
  },
  {
   "cell_type": "markdown",
   "id": "53b34f0f",
   "metadata": {},
   "source": [
    "## 2.1.5 Representacion usando cuaterniones"
   ]
  },
  {
   "cell_type": "code",
   "execution_count": null,
   "id": "35b055d4",
   "metadata": {},
   "outputs": [],
   "source": [
    "a=ReferenceFrame('A')\n",
    "e0,e1,e2,e3=symbols('e0,e1,e2,e3')\n",
    "b=a.orientnew('B','quaternion',(e0,e1,e2,e3))\n",
    "a.dcm(b)"
   ]
  },
  {
   "cell_type": "code",
   "execution_count": null,
   "id": "41041f0b",
   "metadata": {},
   "outputs": [],
   "source": [
    "#Puede aplicar rotaciones sucesivas con cuaterniones\n",
    "# usando la clase Quaternion\n",
    "a1,a2,b1,b2,c1,c2,d1,d2=symbols('a1,a2,b1,b2,c1,c2,d1,d2')\n",
    "# Defina los cuaterniones q1 y q2\n",
    "q1=Quaternion(a1,b1,c1,d1)\n",
    "q2=Quaternion(a2,b2,c2,d2)\n",
    "# q3 producto de q1*q2\n",
    "q3=q1*q2\n",
    "\n",
    "# Defina el marco B con q3\n",
    "b=a.orientnew('B','quaternion',q3.args)\n",
    "\n",
    "# Alternativamente puede definir los marcos E1 y E2 con q1 y q2 respectivamente\n",
    "e1=a.orientnew('E1','quaternion',q1.args)\n",
    "e2=e1.orientnew('E2','quaternion',q2.args)\n",
    "\n",
    "# Observe que el resultado es el mismo\n",
    "a.dcm(e2).expand()==a.dcm(b).expand()"
   ]
  },
  {
   "cell_type": "markdown",
   "id": "ba12666c",
   "metadata": {},
   "source": [
    "## 2.2 Velocidad angular"
   ]
  },
  {
   "cell_type": "code",
   "execution_count": null,
   "id": "2371a264",
   "metadata": {},
   "outputs": [],
   "source": [
    "q1,q2=dynamicsymbols('q1,q2')\n",
    "a=ReferenceFrame('A')\n",
    "e=a.orientnew('E','Axis',(q1,a.y))\n",
    "b=e.orientnew('B','Axis',(q2,-e.z))\n",
    "# Puede calcular la velocidad angular de B respecto a A \n",
    "# con el metodo ang_vel_in.\n",
    "b.ang_vel_in(a).express(b)"
   ]
  },
  {
   "cell_type": "markdown",
   "id": "e5093762",
   "metadata": {},
   "source": [
    "## 2.3 Velocidad angular y derivadas de vectores"
   ]
  },
  {
   "cell_type": "markdown",
   "id": "859bb453",
   "metadata": {},
   "source": [
    "## 2.3.1 Derivada de un vector fijo a un marco"
   ]
  },
  {
   "cell_type": "code",
   "execution_count": 7,
   "id": "c2e9c8e2",
   "metadata": {},
   "outputs": [
    {
     "data": {
      "image/png": "[encoded data removed]",
      "text/latex": [
       "$\\displaystyle (- r_{2} \\left(\\sin{\\left(\\phi{\\left(t \\right)} \\right)} \\frac{d}{d t} \\theta{\\left(t \\right)} + \\frac{d}{d t} \\psi{\\left(t \\right)}\\right) + r_{3} \\left(- \\frac{\\sin{\\left(\\psi{\\left(t \\right)} \\right)} \\cos{\\left(\\phi{\\left(t \\right)} \\right)} \\frac{d}{d t} \\theta{\\left(t \\right)}}{\\sin^{2}{\\left(\\psi{\\left(t \\right)} \\right)} + \\cos^{2}{\\left(\\psi{\\left(t \\right)} \\right)}} + \\frac{\\cos{\\left(\\psi{\\left(t \\right)} \\right)} \\frac{d}{d t} \\phi{\\left(t \\right)}}{\\sin^{2}{\\left(\\psi{\\left(t \\right)} \\right)} + \\cos^{2}{\\left(\\psi{\\left(t \\right)} \\right)}}\\right))\\mathbf{\\hat{b}_x} + (r_{1} \\left(\\sin{\\left(\\phi{\\left(t \\right)} \\right)} \\frac{d}{d t} \\theta{\\left(t \\right)} + \\frac{d}{d t} \\psi{\\left(t \\right)}\\right) - r_{3} \\left(\\frac{\\sin{\\left(\\psi{\\left(t \\right)} \\right)} \\frac{d}{d t} \\phi{\\left(t \\right)}}{\\sin^{2}{\\left(\\psi{\\left(t \\right)} \\right)} + \\cos^{2}{\\left(\\psi{\\left(t \\right)} \\right)}} + \\frac{\\cos{\\left(\\phi{\\left(t \\right)} \\right)} \\cos{\\left(\\psi{\\left(t \\right)} \\right)} \\frac{d}{d t} \\theta{\\left(t \\right)}}{\\sin^{2}{\\left(\\psi{\\left(t \\right)} \\right)} + \\cos^{2}{\\left(\\psi{\\left(t \\right)} \\right)}}\\right))\\mathbf{\\hat{b}_y} + (- r_{1} \\left(- \\frac{\\sin{\\left(\\psi{\\left(t \\right)} \\right)} \\cos{\\left(\\phi{\\left(t \\right)} \\right)} \\frac{d}{d t} \\theta{\\left(t \\right)}}{\\sin^{2}{\\left(\\psi{\\left(t \\right)} \\right)} + \\cos^{2}{\\left(\\psi{\\left(t \\right)} \\right)}} + \\frac{\\cos{\\left(\\psi{\\left(t \\right)} \\right)} \\frac{d}{d t} \\phi{\\left(t \\right)}}{\\sin^{2}{\\left(\\psi{\\left(t \\right)} \\right)} + \\cos^{2}{\\left(\\psi{\\left(t \\right)} \\right)}}\\right) + r_{2} \\left(\\frac{\\sin{\\left(\\psi{\\left(t \\right)} \\right)} \\frac{d}{d t} \\phi{\\left(t \\right)}}{\\sin^{2}{\\left(\\psi{\\left(t \\right)} \\right)} + \\cos^{2}{\\left(\\psi{\\left(t \\right)} \\right)}} + \\frac{\\cos{\\left(\\phi{\\left(t \\right)} \\right)} \\cos{\\left(\\psi{\\left(t \\right)} \\right)} \\frac{d}{d t} \\theta{\\left(t \\right)}}{\\sin^{2}{\\left(\\psi{\\left(t \\right)} \\right)} + \\cos^{2}{\\left(\\psi{\\left(t \\right)} \\right)}}\\right))\\mathbf{\\hat{b}_z}$"
      ],
      "text/plain": [
       "⎛                                          ⎛                      d\n",
       "⎜                                          ⎜  sin(ψ(t))⋅cos(φ(t))⋅──(θ(t))\n",
       "⎜     ⎛          d          d       ⎞      ⎜                      dt\n",
       "⎜- r₂⋅⎜sin(φ(t))⋅──(θ(t)) + ──(ψ(t))⎟ + r₃⋅⎜- ──────────────────────────── + ─\n",
       "⎜     ⎝          dt         dt      ⎠      ⎜       2            2\n",
       "⎝                                          ⎝    sin (ψ(t)) + cos (ψ(t))      s\n",
       "\n",
       "            d         ⎞⎞       ⎛                                        ⎛\n",
       "  cos(ψ(t))⋅──(φ(t))  ⎟⎟       ⎜                                        ⎜   si\n",
       "            dt        ⎟⎟       ⎜   ⎛          d          d       ⎞      ⎜\n",
       "──────────────────────⎟⎟ b_x + ⎜r₁⋅⎜sin(φ(t))⋅──(θ(t)) + ──(ψ(t))⎟ - r₃⋅⎜─────\n",
       "  2            2      ⎟⎟       ⎜   ⎝          dt         dt      ⎠      ⎜   2\n",
       "in (ψ(t)) + cos (ψ(t))⎠⎠       ⎝                                        ⎝sin (\n",
       "\n",
       "        d                                d       ⎞⎞       ⎛     ⎛\n",
       "n(ψ(t))⋅──(φ(t))     cos(φ(t))⋅cos(ψ(t))⋅──(θ(t))⎟⎟       ⎜     ⎜  sin(ψ(t))⋅c\n",
       "        dt                               dt      ⎟⎟       ⎜     ⎜\n",
       "────────────────── + ────────────────────────────⎟⎟ b_y + ⎜- r₁⋅⎜- ───────────\n",
       "           2              2            2         ⎟⎟       ⎜     ⎜       2\n",
       "ψ(t)) + cos (ψ(t))     sin (ψ(t)) + cos (ψ(t))   ⎠⎠       ⎝     ⎝    sin (ψ(t)\n",
       "\n",
       "         d                       d         ⎞      ⎛             d\n",
       "os(φ(t))⋅──(θ(t))      cos(ψ(t))⋅──(φ(t))  ⎟      ⎜   sin(ψ(t))⋅──(φ(t))     c\n",
       "         dt                      dt        ⎟      ⎜             dt\n",
       "───────────────── + ───────────────────────⎟ + r₂⋅⎜─────────────────────── + ─\n",
       "       2               2            2      ⎟      ⎜   2            2\n",
       ") + cos (ψ(t))      sin (ψ(t)) + cos (ψ(t))⎠      ⎝sin (ψ(t)) + cos (ψ(t))\n",
       "\n",
       "                   d       ⎞⎞\n",
       "os(φ(t))⋅cos(ψ(t))⋅──(θ(t))⎟⎟\n",
       "                   dt      ⎟⎟\n",
       "───────────────────────────⎟⎟ b_z\n",
       "    2            2         ⎟⎟\n",
       " sin (ψ(t)) + cos (ψ(t))   ⎠⎠"
      ]
     },
     "execution_count": 7,
     "metadata": {},
     "output_type": "execute_result"
    }
   ],
   "source": [
    "theta,phi,psi=dynamicsymbols('theta,phi,psi')\n",
    "r1,r2,r3=symbols('r1,r2,r3')\n",
    "a=ReferenceFrame('A')\n",
    "b=a.orientnew('B','Body',(theta,phi,psi),'XYZ')\n",
    "#Defina el vector r\n",
    "r=r1*b.x+r2*b.y+r3*b.z\n",
    "# Puede calcular la derivada total del vector r en A\n",
    "r.dt(a)"
   ]
  },
  {
   "cell_type": "code",
   "execution_count": 4,
   "id": "b1036beb",
   "metadata": {},
   "outputs": [
    {
     "data": {
      "image/png": "[encoded data removed]",
      "text/latex": [
       "$\\displaystyle (- r_{2} \\left(\\sin{\\left(\\phi{\\left(t \\right)} \\right)} \\frac{d}{d t} \\theta{\\left(t \\right)} + \\frac{d}{d t} \\psi{\\left(t \\right)}\\right) + r_{3} \\left(- \\frac{\\sin{\\left(\\psi{\\left(t \\right)} \\right)} \\cos{\\left(\\phi{\\left(t \\right)} \\right)} \\frac{d}{d t} \\theta{\\left(t \\right)}}{\\sin^{2}{\\left(\\psi{\\left(t \\right)} \\right)} + \\cos^{2}{\\left(\\psi{\\left(t \\right)} \\right)}} + \\frac{\\cos{\\left(\\psi{\\left(t \\right)} \\right)} \\frac{d}{d t} \\phi{\\left(t \\right)}}{\\sin^{2}{\\left(\\psi{\\left(t \\right)} \\right)} + \\cos^{2}{\\left(\\psi{\\left(t \\right)} \\right)}}\\right))\\mathbf{\\hat{b}_x} + (r_{1} \\left(\\sin{\\left(\\phi{\\left(t \\right)} \\right)} \\frac{d}{d t} \\theta{\\left(t \\right)} + \\frac{d}{d t} \\psi{\\left(t \\right)}\\right) - r_{3} \\left(\\frac{\\sin{\\left(\\psi{\\left(t \\right)} \\right)} \\frac{d}{d t} \\phi{\\left(t \\right)}}{\\sin^{2}{\\left(\\psi{\\left(t \\right)} \\right)} + \\cos^{2}{\\left(\\psi{\\left(t \\right)} \\right)}} + \\frac{\\cos{\\left(\\phi{\\left(t \\right)} \\right)} \\cos{\\left(\\psi{\\left(t \\right)} \\right)} \\frac{d}{d t} \\theta{\\left(t \\right)}}{\\sin^{2}{\\left(\\psi{\\left(t \\right)} \\right)} + \\cos^{2}{\\left(\\psi{\\left(t \\right)} \\right)}}\\right))\\mathbf{\\hat{b}_y} + (- r_{1} \\left(- \\frac{\\sin{\\left(\\psi{\\left(t \\right)} \\right)} \\cos{\\left(\\phi{\\left(t \\right)} \\right)} \\frac{d}{d t} \\theta{\\left(t \\right)}}{\\sin^{2}{\\left(\\psi{\\left(t \\right)} \\right)} + \\cos^{2}{\\left(\\psi{\\left(t \\right)} \\right)}} + \\frac{\\cos{\\left(\\psi{\\left(t \\right)} \\right)} \\frac{d}{d t} \\phi{\\left(t \\right)}}{\\sin^{2}{\\left(\\psi{\\left(t \\right)} \\right)} + \\cos^{2}{\\left(\\psi{\\left(t \\right)} \\right)}}\\right) + r_{2} \\left(\\frac{\\sin{\\left(\\psi{\\left(t \\right)} \\right)} \\frac{d}{d t} \\phi{\\left(t \\right)}}{\\sin^{2}{\\left(\\psi{\\left(t \\right)} \\right)} + \\cos^{2}{\\left(\\psi{\\left(t \\right)} \\right)}} + \\frac{\\cos{\\left(\\phi{\\left(t \\right)} \\right)} \\cos{\\left(\\psi{\\left(t \\right)} \\right)} \\frac{d}{d t} \\theta{\\left(t \\right)}}{\\sin^{2}{\\left(\\psi{\\left(t \\right)} \\right)} + \\cos^{2}{\\left(\\psi{\\left(t \\right)} \\right)}}\\right))\\mathbf{\\hat{b}_z}$"
      ],
      "text/plain": [
       "⎛                                          ⎛                      d\n",
       "⎜                                          ⎜  sin(ψ(t))⋅cos(φ(t))⋅──(θ(t))\n",
       "⎜     ⎛          d          d       ⎞      ⎜                      dt\n",
       "⎜- r₂⋅⎜sin(φ(t))⋅──(θ(t)) + ──(ψ(t))⎟ + r₃⋅⎜- ──────────────────────────── + ─\n",
       "⎜     ⎝          dt         dt      ⎠      ⎜       2            2\n",
       "⎝                                          ⎝    sin (ψ(t)) + cos (ψ(t))      s\n",
       "\n",
       "            d         ⎞⎞       ⎛                                        ⎛\n",
       "  cos(ψ(t))⋅──(φ(t))  ⎟⎟       ⎜                                        ⎜   si\n",
       "            dt        ⎟⎟       ⎜   ⎛          d          d       ⎞      ⎜\n",
       "──────────────────────⎟⎟ b_x + ⎜r₁⋅⎜sin(φ(t))⋅──(θ(t)) + ──(ψ(t))⎟ - r₃⋅⎜─────\n",
       "  2            2      ⎟⎟       ⎜   ⎝          dt         dt      ⎠      ⎜   2\n",
       "in (ψ(t)) + cos (ψ(t))⎠⎠       ⎝                                        ⎝sin (\n",
       "\n",
       "        d                                d       ⎞⎞       ⎛     ⎛\n",
       "n(ψ(t))⋅──(φ(t))     cos(φ(t))⋅cos(ψ(t))⋅──(θ(t))⎟⎟       ⎜     ⎜  sin(ψ(t))⋅c\n",
       "        dt                               dt      ⎟⎟       ⎜     ⎜\n",
       "────────────────── + ────────────────────────────⎟⎟ b_y + ⎜- r₁⋅⎜- ───────────\n",
       "           2              2            2         ⎟⎟       ⎜     ⎜       2\n",
       "ψ(t)) + cos (ψ(t))     sin (ψ(t)) + cos (ψ(t))   ⎠⎠       ⎝     ⎝    sin (ψ(t)\n",
       "\n",
       "         d                       d         ⎞      ⎛             d\n",
       "os(φ(t))⋅──(θ(t))      cos(ψ(t))⋅──(φ(t))  ⎟      ⎜   sin(ψ(t))⋅──(φ(t))     c\n",
       "         dt                      dt        ⎟      ⎜             dt\n",
       "───────────────── + ───────────────────────⎟ + r₂⋅⎜─────────────────────── + ─\n",
       "       2               2            2      ⎟      ⎜   2            2\n",
       ") + cos (ψ(t))      sin (ψ(t)) + cos (ψ(t))⎠      ⎝sin (ψ(t)) + cos (ψ(t))\n",
       "\n",
       "                   d       ⎞⎞\n",
       "os(φ(t))⋅cos(ψ(t))⋅──(θ(t))⎟⎟\n",
       "                   dt      ⎟⎟\n",
       "───────────────────────────⎟⎟ b_z\n",
       "    2            2         ⎟⎟\n",
       " sin (ψ(t)) + cos (ψ(t))   ⎠⎠"
      ]
     },
     "execution_count": 4,
     "metadata": {},
     "output_type": "execute_result"
    }
   ],
   "source": [
    "# Para calcular velocidades relativas entre marcos de referencia\n",
    "# es mas conveniente crear objectos de la clase Point.\n",
    "# Definiendo O como origen estacionario desde el marco de referencia A\n",
    "O=Point('O')\n",
    "O.set_vel(a,0)\n",
    "# Ahora defina el punto R\n",
    "r=O.locatenew('R',r1*b.x+r2*b.y+r3*b.z)\n",
    "# Calcule la velocidad respecto a A\n",
    "r.vel(a)"
   ]
  },
  {
   "cell_type": "markdown",
   "id": "f037bf63",
   "metadata": {},
   "source": [
    "## 2.3.2 Relacion entre derivadas en marcos diferentes"
   ]
  },
  {
   "cell_type": "code",
   "execution_count": 6,
   "id": "15a52e20",
   "metadata": {},
   "outputs": [
    {
     "data": {
      "image/png": "[encoded data removed]",
      "text/latex": [
       "$\\displaystyle (- \\left(\\sin{\\left(\\phi{\\left(t \\right)} \\right)} \\frac{d}{d t} \\theta{\\left(t \\right)} + \\frac{d}{d t} \\psi{\\left(t \\right)}\\right) \\operatorname{r_{2}}{\\left(t \\right)} + \\left(- \\frac{\\sin{\\left(\\psi{\\left(t \\right)} \\right)} \\cos{\\left(\\phi{\\left(t \\right)} \\right)} \\frac{d}{d t} \\theta{\\left(t \\right)}}{\\sin^{2}{\\left(\\psi{\\left(t \\right)} \\right)} + \\cos^{2}{\\left(\\psi{\\left(t \\right)} \\right)}} + \\frac{\\cos{\\left(\\psi{\\left(t \\right)} \\right)} \\frac{d}{d t} \\phi{\\left(t \\right)}}{\\sin^{2}{\\left(\\psi{\\left(t \\right)} \\right)} + \\cos^{2}{\\left(\\psi{\\left(t \\right)} \\right)}}\\right) \\operatorname{r_{3}}{\\left(t \\right)} + \\frac{d}{d t} \\operatorname{r_{1}}{\\left(t \\right)})\\mathbf{\\hat{b}_x} + (\\left(\\sin{\\left(\\phi{\\left(t \\right)} \\right)} \\frac{d}{d t} \\theta{\\left(t \\right)} + \\frac{d}{d t} \\psi{\\left(t \\right)}\\right) \\operatorname{r_{1}}{\\left(t \\right)} - \\left(\\frac{\\sin{\\left(\\psi{\\left(t \\right)} \\right)} \\frac{d}{d t} \\phi{\\left(t \\right)}}{\\sin^{2}{\\left(\\psi{\\left(t \\right)} \\right)} + \\cos^{2}{\\left(\\psi{\\left(t \\right)} \\right)}} + \\frac{\\cos{\\left(\\phi{\\left(t \\right)} \\right)} \\cos{\\left(\\psi{\\left(t \\right)} \\right)} \\frac{d}{d t} \\theta{\\left(t \\right)}}{\\sin^{2}{\\left(\\psi{\\left(t \\right)} \\right)} + \\cos^{2}{\\left(\\psi{\\left(t \\right)} \\right)}}\\right) \\operatorname{r_{3}}{\\left(t \\right)} + \\frac{d}{d t} \\operatorname{r_{2}}{\\left(t \\right)})\\mathbf{\\hat{b}_y} + (\\left(\\frac{\\sin{\\left(\\psi{\\left(t \\right)} \\right)} \\frac{d}{d t} \\phi{\\left(t \\right)}}{\\sin^{2}{\\left(\\psi{\\left(t \\right)} \\right)} + \\cos^{2}{\\left(\\psi{\\left(t \\right)} \\right)}} + \\frac{\\cos{\\left(\\phi{\\left(t \\right)} \\right)} \\cos{\\left(\\psi{\\left(t \\right)} \\right)} \\frac{d}{d t} \\theta{\\left(t \\right)}}{\\sin^{2}{\\left(\\psi{\\left(t \\right)} \\right)} + \\cos^{2}{\\left(\\psi{\\left(t \\right)} \\right)}}\\right) \\operatorname{r_{2}}{\\left(t \\right)} - \\left(- \\frac{\\sin{\\left(\\psi{\\left(t \\right)} \\right)} \\cos{\\left(\\phi{\\left(t \\right)} \\right)} \\frac{d}{d t} \\theta{\\left(t \\right)}}{\\sin^{2}{\\left(\\psi{\\left(t \\right)} \\right)} + \\cos^{2}{\\left(\\psi{\\left(t \\right)} \\right)}} + \\frac{\\cos{\\left(\\psi{\\left(t \\right)} \\right)} \\frac{d}{d t} \\phi{\\left(t \\right)}}{\\sin^{2}{\\left(\\psi{\\left(t \\right)} \\right)} + \\cos^{2}{\\left(\\psi{\\left(t \\right)} \\right)}}\\right) \\operatorname{r_{1}}{\\left(t \\right)} + \\frac{d}{d t} \\operatorname{r_{3}}{\\left(t \\right)})\\mathbf{\\hat{b}_z}$"
      ],
      "text/plain": [
       "⎛                                          ⎛                      d\n",
       "⎜                                          ⎜  sin(ψ(t))⋅cos(φ(t))⋅──(θ(t))\n",
       "⎜  ⎛          d          d       ⎞         ⎜                      dt\n",
       "⎜- ⎜sin(φ(t))⋅──(θ(t)) + ──(ψ(t))⎟⋅r₂(t) + ⎜- ──────────────────────────── + ─\n",
       "⎜  ⎝          dt         dt      ⎠         ⎜       2            2\n",
       "⎝                                          ⎝    sin (ψ(t)) + cos (ψ(t))      s\n",
       "\n",
       "            d         ⎞                  ⎞       ⎛\n",
       "  cos(ψ(t))⋅──(φ(t))  ⎟                  ⎟       ⎜\n",
       "            dt        ⎟         d        ⎟       ⎜⎛          d          d\n",
       "──────────────────────⎟⋅r₃(t) + ──(r₁(t))⎟ b_x + ⎜⎜sin(φ(t))⋅──(θ(t)) + ──(ψ(t\n",
       "  2            2      ⎟         dt       ⎟       ⎜⎝          dt         dt\n",
       "in (ψ(t)) + cos (ψ(t))⎠                  ⎠       ⎝\n",
       "\n",
       "            ⎛             d                                d       ⎞\n",
       "            ⎜   sin(ψ(t))⋅──(φ(t))     cos(φ(t))⋅cos(ψ(t))⋅──(θ(t))⎟\n",
       "  ⎞         ⎜             dt                               dt      ⎟         d\n",
       "))⎟⋅r₁(t) - ⎜─────────────────────── + ────────────────────────────⎟⋅r₃(t) + ─\n",
       "  ⎠         ⎜   2            2              2            2         ⎟         d\n",
       "            ⎝sin (ψ(t)) + cos (ψ(t))     sin (ψ(t)) + cos (ψ(t))   ⎠\n",
       "\n",
       "        ⎞       ⎛⎛             d                                d       ⎞\n",
       "        ⎟       ⎜⎜   sin(ψ(t))⋅──(φ(t))     cos(φ(t))⋅cos(ψ(t))⋅──(θ(t))⎟\n",
       "        ⎟       ⎜⎜             dt                               dt      ⎟\n",
       "─(r₂(t))⎟ b_y + ⎜⎜─────────────────────── + ────────────────────────────⎟⋅r₂(t\n",
       "t       ⎟       ⎜⎜   2            2              2            2         ⎟\n",
       "        ⎠       ⎝⎝sin (ψ(t)) + cos (ψ(t))     sin (ψ(t)) + cos (ψ(t))   ⎠\n",
       "\n",
       "    ⎛                      d                       d         ⎞\n",
       "    ⎜  sin(ψ(t))⋅cos(φ(t))⋅──(θ(t))      cos(ψ(t))⋅──(φ(t))  ⎟\n",
       "    ⎜                      dt                      dt        ⎟         d\n",
       ") - ⎜- ──────────────────────────── + ───────────────────────⎟⋅r₁(t) + ──(r₃(t\n",
       "    ⎜       2            2               2            2      ⎟         dt\n",
       "    ⎝    sin (ψ(t)) + cos (ψ(t))      sin (ψ(t)) + cos (ψ(t))⎠\n",
       "\n",
       "  ⎞\n",
       "  ⎟\n",
       "  ⎟\n",
       "))⎟ b_z\n",
       "  ⎟\n",
       "  ⎠"
      ]
     },
     "execution_count": 6,
     "metadata": {},
     "output_type": "execute_result"
    }
   ],
   "source": [
    "# El punto r podria tener una velocidad diferente a 0\n",
    "# En este caso definimos las variables r1,r2,r3 como simbolos dinamicos\n",
    "# (i.e. r1(t),r2(t),r3(t))\n",
    "r1,r2,r3=dynamicsymbols('r1,r2,r3')\n",
    "theta,phi,psi=dynamicsymbols('theta,phi,psi')\n",
    "a=ReferenceFrame('A')\n",
    "b=a.orientnew('B','Body',(theta,phi,psi),'XYZ')\n",
    "O=Point('O')\n",
    "O.set_vel(a,0)\n",
    "# Ahora defina el punto R\n",
    "r=O.locatenew('R',r1*b.x+r2*b.y+r3*b.z)\n",
    "# Calcule la velocidad respecto a A y observe que aparecen los terminos\n",
    "# dr_i/dt, que corresponden a la velocidad de r en el marco B.\n",
    "r.vel(a)"
   ]
  },
  {
   "cell_type": "code",
   "execution_count": 13,
   "id": "060b0f8d",
   "metadata": {},
   "outputs": [
    {
     "data": {
      "image/png": "[encoded data removed]",
      "text/latex": [
       "$\\displaystyle R \\frac{d}{d t} \\operatorname{q_{2}}{\\left(t \\right)}\\mathbf{\\hat{b}_x} -  R \\sin{\\left(\\operatorname{q_{2}}{\\left(t \\right)} \\right)} \\frac{d}{d t} \\operatorname{q_{1}}{\\left(t \\right)}\\mathbf{\\hat{b}_z}$"
      ],
      "text/plain": [
       "  d                             d\n",
       "R⋅──(q₂(t)) b_x + -R⋅sin(q₂(t))⋅──(q₁(t)) b_z\n",
       "  dt                            dt"
      ]
     },
     "execution_count": 13,
     "metadata": {},
     "output_type": "execute_result"
    }
   ],
   "source": [
    "# Aplicando esto para el caso del modelo giro-péndulo\n",
    "q1,q2=dynamicsymbols('q1,q2')\n",
    "# Variables de distancia l1: longitud del pendulo, R: radio del disco\n",
    "l1,R=symbols('l1,R') \n",
    "\n",
    "#Defina marcos de referencia\n",
    "a=ReferenceFrame('A')\n",
    "e=a.orientnew('E','Axis',(q1,a.y))\n",
    "b=e.orientnew('B','Axis',(q2,-e.z))\n",
    "\n",
    "#Defina el punto de origen\n",
    "O=Point('O')\n",
    "O.set_vel(a,0)\n",
    "# Ahora defina el punto Q en el centro del disco\n",
    "q=O.locatenew('Q',l1*e.z)\n",
    "# Defina el punto P en la periferia del disco\n",
    "p=q.locatenew('P',R*b.y)\n",
    "\n",
    "# Calcule la velocidad del vector w, definido desde Q hasta P. \n",
    "w=p.pos_from(q)\n",
    "w.dt(a)"
   ]
  },
  {
   "cell_type": "markdown",
   "id": "d468be88",
   "metadata": {},
   "source": [
    "## 2.4 Velocidad angular simple"
   ]
  },
  {
   "cell_type": "code",
   "execution_count": 18,
   "id": "107b4c3b",
   "metadata": {},
   "outputs": [
    {
     "data": {
      "image/png": "[encoded data removed]",
      "text/latex": [
       "$\\displaystyle -  \\frac{d}{d t} \\operatorname{q_{2}}{\\left(t \\right)}\\mathbf{\\hat{e}_z}$"
      ],
      "text/plain": [
       " d\n",
       "-──(q₂(t)) e_z\n",
       " dt"
      ]
     },
     "execution_count": 18,
     "metadata": {},
     "output_type": "execute_result"
    }
   ],
   "source": [
    "# Para el ejemplo del modelo giro-pendulo observe\n",
    "# la velocidad angular de E en A y de B en E. \n",
    "a=ReferenceFrame('A')\n",
    "e=a.orientnew('E','Axis',(q1,a.y))\n",
    "b=e.orientnew('B','Axis',(q2,-e.z))\n",
    "e.ang_vel_in(a).express(e)\n",
    "#b.ang_vel_in(e).express(e)"
   ]
  },
  {
   "cell_type": "markdown",
   "id": "ec485407",
   "metadata": {},
   "source": [
    "## 2.5 Teorema de adicion de velocidades angulares"
   ]
  },
  {
   "cell_type": "code",
   "execution_count": 20,
   "id": "b4b197e2",
   "metadata": {},
   "outputs": [
    {
     "data": {
      "text/plain": [
       "True"
      ]
     },
     "execution_count": 20,
     "metadata": {},
     "output_type": "execute_result"
    }
   ],
   "source": [
    "# Para el ejemplo del modelo giro-pendulo observe\n",
    "# la velocidad angular de E en A y de B en E. \n",
    "a=ReferenceFrame('A')\n",
    "e=a.orientnew('E','Axis',(q1,a.y))\n",
    "b=e.orientnew('B','Axis',(q2,-e.z))\n",
    "# Observe que la suma de las velocidades angulares corresponde a la velocidad angular\n",
    "# del cuerpo B en el marco A.\n",
    "e.ang_vel_in(a).express(e)+b.ang_vel_in(e).express(e)==b.ang_vel_in(a).express(e)"
   ]
  },
  {
   "cell_type": "markdown",
   "id": "47416069",
   "metadata": {},
   "source": [
    "## 2.6 Relacion entre la velocidad angular y las representaciones de orientacion"
   ]
  },
  {
   "cell_type": "markdown",
   "id": "b33e9dfe",
   "metadata": {},
   "source": [
    "## 2.6.1 Relacion entre la velocidad angular y las representaciones de orientacion"
   ]
  },
  {
   "cell_type": "code",
   "execution_count": 28,
   "id": "ba5fffa0",
   "metadata": {},
   "outputs": [
    {
     "data": {
      "image/png": "[encoded data removed]",
      "text/latex": [
       "$\\displaystyle (\\sin{\\left(\\psi{\\left(t \\right)} \\right)} \\frac{d}{d t} \\theta{\\left(t \\right)} + \\cos{\\left(\\psi{\\left(t \\right)} \\right)} \\cos{\\left(\\theta{\\left(t \\right)} \\right)} \\frac{d}{d t} \\phi{\\left(t \\right)})\\mathbf{\\hat{b}_x} + (- \\sin{\\left(\\psi{\\left(t \\right)} \\right)} \\cos{\\left(\\theta{\\left(t \\right)} \\right)} \\frac{d}{d t} \\phi{\\left(t \\right)} + \\cos{\\left(\\psi{\\left(t \\right)} \\right)} \\frac{d}{d t} \\theta{\\left(t \\right)})\\mathbf{\\hat{b}_y} + (\\sin{\\left(\\theta{\\left(t \\right)} \\right)} \\frac{d}{d t} \\phi{\\left(t \\right)} + \\frac{d}{d t} \\psi{\\left(t \\right)})\\mathbf{\\hat{b}_z}$"
      ],
      "text/plain": [
       "⎛          d                              d       ⎞       ⎛\n",
       "⎜sin(ψ(t))⋅──(θ(t)) + cos(ψ(t))⋅cos(θ(t))⋅──(φ(t))⎟ b_x + ⎜- sin(ψ(t))⋅cos(θ(t\n",
       "⎝          dt                             dt      ⎠       ⎝\n",
       "\n",
       "   d                    d       ⎞       ⎛          d          d       ⎞\n",
       "))⋅──(φ(t)) + cos(ψ(t))⋅──(θ(t))⎟ b_y + ⎜sin(θ(t))⋅──(φ(t)) + ──(ψ(t))⎟ b_z\n",
       "   dt                   dt      ⎠       ⎝          dt         dt      ⎠"
      ]
     },
     "execution_count": 28,
     "metadata": {},
     "output_type": "execute_result"
    }
   ],
   "source": [
    "a=ReferenceFrame('A')\n",
    "phi,theta,psi=dynamicsymbols('phi,theta,psi')\n",
    "# Defina el marco de referencia B con rotaciones sucesivas XYZ\n",
    "b=a.orientnew('B','Body',(phi,theta,psi),'XYZ')\n",
    "b.ang_vel_in(a).simplify()"
   ]
  },
  {
   "cell_type": "markdown",
   "id": "184e6ca4",
   "metadata": {},
   "source": [
    "### 2.6.3 Velocidad angular y parametros de Euler"
   ]
  },
  {
   "cell_type": "code",
   "execution_count": 40,
   "id": "3b1bbf01",
   "metadata": {},
   "outputs": [
    {
     "data": {
      "image/png": "[encoded data removed]",
      "text/latex": [
       "$\\displaystyle (2 \\operatorname{e_{0}}{\\left(t \\right)} \\frac{d}{d t} \\operatorname{e_{1}}{\\left(t \\right)} - 2 \\operatorname{e_{1}}{\\left(t \\right)} \\frac{d}{d t} \\operatorname{e_{0}}{\\left(t \\right)} - 2 \\operatorname{e_{2}}{\\left(t \\right)} \\frac{d}{d t} \\operatorname{e_{3}}{\\left(t \\right)} + 2 \\operatorname{e_{3}}{\\left(t \\right)} \\frac{d}{d t} \\operatorname{e_{2}}{\\left(t \\right)})\\mathbf{\\hat{b}_x} + (2 \\operatorname{e_{0}}{\\left(t \\right)} \\frac{d}{d t} \\operatorname{e_{2}}{\\left(t \\right)} + 2 \\operatorname{e_{1}}{\\left(t \\right)} \\frac{d}{d t} \\operatorname{e_{3}}{\\left(t \\right)} - 2 \\operatorname{e_{2}}{\\left(t \\right)} \\frac{d}{d t} \\operatorname{e_{0}}{\\left(t \\right)} - 2 \\operatorname{e_{3}}{\\left(t \\right)} \\frac{d}{d t} \\operatorname{e_{1}}{\\left(t \\right)})\\mathbf{\\hat{b}_y} + (2 \\operatorname{e_{0}}{\\left(t \\right)} \\frac{d}{d t} \\operatorname{e_{3}}{\\left(t \\right)} - 2 \\operatorname{e_{1}}{\\left(t \\right)} \\frac{d}{d t} \\operatorname{e_{2}}{\\left(t \\right)} + 2 \\operatorname{e_{2}}{\\left(t \\right)} \\frac{d}{d t} \\operatorname{e_{1}}{\\left(t \\right)} - 2 \\operatorname{e_{3}}{\\left(t \\right)} \\frac{d}{d t} \\operatorname{e_{0}}{\\left(t \\right)})\\mathbf{\\hat{b}_z}$"
      ],
      "text/plain": [
       "⎛        d                   d                   d                   d\n",
       "⎜2⋅e₀(t)⋅──(e₁(t)) - 2⋅e₁(t)⋅──(e₀(t)) - 2⋅e₂(t)⋅──(e₃(t)) + 2⋅e₃(t)⋅──(e₂(t))\n",
       "⎝        dt                  dt                  dt                  dt\n",
       "\n",
       "⎞       ⎛        d                   d                   d                   d\n",
       "⎟ b_x + ⎜2⋅e₀(t)⋅──(e₂(t)) + 2⋅e₁(t)⋅──(e₃(t)) - 2⋅e₂(t)⋅──(e₀(t)) - 2⋅e₃(t)⋅─\n",
       "⎠       ⎝        dt                  dt                  dt                  d\n",
       "\n",
       "        ⎞       ⎛        d                   d                   d\n",
       "─(e₁(t))⎟ b_y + ⎜2⋅e₀(t)⋅──(e₃(t)) - 2⋅e₁(t)⋅──(e₂(t)) + 2⋅e₂(t)⋅──(e₁(t)) - 2\n",
       "t       ⎠       ⎝        dt                  dt                  dt\n",
       "\n",
       "       d        ⎞\n",
       "⋅e₃(t)⋅──(e₀(t))⎟ b_z\n",
       "       dt       ⎠"
      ]
     },
     "execution_count": 40,
     "metadata": {},
     "output_type": "execute_result"
    }
   ],
   "source": [
    "a=ReferenceFrame('A')\n",
    "e0,e1,e2,e3=dynamicsymbols('e0,e1,e2,e3')\n",
    "b=a.orientnew('B','quaternion',(e0,e1,e2,e3))\n",
    "# Calcule la velocidad angular expresada en terminos del cuaternion\n",
    "# Aqui se obtiene un factor 2 adicional a las expresiones del libro.\n",
    "# Omega representa la velocidad angular de B en el marco A.\n",
    "# Y esta rotacion es producida por el doble producto q ⊗ r ⊗ q *. \n",
    "# Puede pensar en esto como que el quaternion q captura \"media\" rotacion.\n",
    "# Para mas detalles puede consultar el capitulo \"Exponential map\" en https://arxiv.org/pdf/1711.02508.pdf\n",
    "b.ang_vel_in(a).simplify()\n"
   ]
  },
  {
   "cell_type": "markdown",
   "id": "15a3fd80",
   "metadata": {},
   "source": [
    "### 2.7 Aceleracion angular"
   ]
  },
  {
   "cell_type": "code",
   "execution_count": 41,
   "id": "77629379",
   "metadata": {},
   "outputs": [
    {
     "data": {
      "image/png": "[encoded data removed]",
      "text/latex": [
       "$\\displaystyle -  \\frac{d}{d t} \\operatorname{q_{1}}{\\left(t \\right)} \\frac{d}{d t} \\operatorname{q_{2}}{\\left(t \\right)}\\mathbf{\\hat{e}_x} -  \\frac{d^{2}}{d t^{2}} \\operatorname{q_{2}}{\\left(t \\right)}\\mathbf{\\hat{e}_z} + \\frac{d^{2}}{d t^{2}} \\operatorname{q_{1}}{\\left(t \\right)}\\mathbf{\\hat{a}_y}$"
      ],
      "text/plain": [
       "                              2                2\n",
       " d         d                 d                d\n",
       "-──(q₁(t))⋅──(q₂(t)) e_x + -───(q₂(t)) e_z + ───(q₁(t)) a_y\n",
       " dt        dt                 2                2\n",
       "                            dt               dt"
      ]
     },
     "execution_count": 41,
     "metadata": {},
     "output_type": "execute_result"
    }
   ],
   "source": [
    "# Para el ejemplo del modelo giro-pendulo observe\n",
    "# la aceleracion angular de E en A y de B en E. \n",
    "a=ReferenceFrame('A')\n",
    "q1,q2=dynamicsymbols('q1,q2')\n",
    "e=a.orientnew('E','Axis',(q1,a.y))\n",
    "b=e.orientnew('B','Axis',(q2,-e.z))\n",
    "\n",
    "b.ang_acc_in(a)"
   ]
  }
 ],
 "metadata": {
  "kernelspec": {
   "display_name": "Python 3 (ipykernel)",
   "language": "python",
   "name": "python3"
  },
  "language_info": {
   "codemirror_mode": {
    "name": "ipython",
    "version": 3
   },
   "file_extension": ".py",
   "mimetype": "text/x-python",
   "name": "python",
   "nbconvert_exporter": "python",
   "pygments_lexer": "ipython3",
   "version": "3.8.3"
  }
 },
 "nbformat": 4,
 "nbformat_minor": 5
}
