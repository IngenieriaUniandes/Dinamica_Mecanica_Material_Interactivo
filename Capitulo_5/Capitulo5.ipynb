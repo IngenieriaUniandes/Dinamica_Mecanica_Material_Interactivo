{
 "cells": [
  {
   "cell_type": "markdown",
   "id": "191dcec9",
   "metadata": {},
   "source": [
    "# 5. Formulacion cinetica de Newton-Euler"
   ]
  },
  {
   "cell_type": "code",
   "execution_count": 8,
   "id": "b639b01f",
   "metadata": {},
   "outputs": [],
   "source": [
    "from sympy import symbols\n",
    "from sympy.physics.mechanics import ReferenceFrame, inertia, Point, RigidBody, dynamicsymbols\n"
   ]
  },
  {
   "cell_type": "code",
   "execution_count": 84,
   "id": "95aee50e",
   "metadata": {},
   "outputs": [],
   "source": [
    "# Para el modelo del tren de aterrizaje defina las variables de movimiento\n",
    "# y parametros del modelo\n",
    "q1,q2=dynamicsymbols('q1,q2')\n",
    "# Parametros del modelo\n",
    "h,d,mb,mc,Ia,Ir,g=symbols('h,d,mb,mc,Ia,Ir,g')\n",
    "\n",
    "#Marcos de referencia\n",
    "a=ReferenceFrame('A')\n",
    "b=a.orientnew('B','Axis',(q1,a.z))\n",
    "c=b.orientnew('C','Axis',(q2,b.x))\n",
    "\n",
    "# Puntos de interes\n",
    "o=Point('O')\n",
    "b_com=o.locatenew('Bcom',-h*b.y/2)\n",
    "b_end=o.locatenew('Bend',-h*b.y)\n",
    "c_com=b_end.locatenew('Ccom',d*b.x)\n",
    "\n",
    "# Defina la velocidad de cada punto\n",
    "o.set_vel(a,0)\n",
    "b_com.set_vel(b,0)\n",
    "c_com.set_vel(c,0)\n",
    "b_com.v2pt_theory(o,a,b)\n",
    "c_com.v2pt_theory(b_end,b,c)\n",
    "\n",
    "#Propiedades inerciales\n",
    "ic=inertia(c, Ia, Ir, Ir)\n",
    "\n",
    "\n",
    "# Cuerpos rigidos\n",
    "body_llanta=RigidBody('llanta',c_com,c,mc,(ic,c_com))\n"
   ]
  },
  {
   "cell_type": "code",
   "execution_count": 85,
   "id": "9672c058",
   "metadata": {},
   "outputs": [
    {
     "data": {
      "text/latex": [
       "$\\displaystyle \\frac{d}{d t} \\operatorname{q_{2}}{\\left(t \\right)}\\mathbf{\\hat{b}_x} + \\frac{d}{d t} \\operatorname{q_{1}}{\\left(t \\right)}\\mathbf{\\hat{a}_z}$"
      ],
      "text/plain": [
       "Derivative(q1(t), t)*A.z + Derivative(q2(t), t)*B.x"
      ]
     },
     "execution_count": 85,
     "metadata": {},
     "output_type": "execute_result"
    }
   ],
   "source": [
    "#Verifique la velocidad angular de la llanta en A\n",
    "c.ang_vel_in(a)\n",
    "#ccom.vel(a) #verifique la velocidad de ccom"
   ]
  },
  {
   "cell_type": "code",
   "execution_count": 90,
   "id": "0c0953bc",
   "metadata": {},
   "outputs": [
    {
     "data": {
      "text/latex": [
       "$\\displaystyle Ia \\frac{d^{2}}{d t^{2}} \\operatorname{q_{2}}{\\left(t \\right)}\\mathbf{\\hat{b}_x} + Ia \\frac{d}{d t} \\operatorname{q_{1}}{\\left(t \\right)} \\frac{d}{d t} \\operatorname{q_{2}}{\\left(t \\right)}\\mathbf{\\hat{b}_y} + \\left(Ir + d^{2} mc + h^{2} mc\\right) \\frac{d^{2}}{d t^{2}} \\operatorname{q_{1}}{\\left(t \\right)}\\mathbf{\\hat{b}_z}$"
      ],
      "text/plain": [
       "Ia*Derivative(q2(t), (t, 2))*B.x + Ia*Derivative(q1(t), t)*Derivative(q2(t), t)*B.y + (Ir + d**2*mc + h**2*mc)*Derivative(q1(t), (t, 2))*B.z"
      ]
     },
     "execution_count": 90,
     "metadata": {},
     "output_type": "execute_result"
    }
   ],
   "source": [
    "#Calcule el momentum angular de la llanta\n",
    "H_ca=body_llanta.angular_momentum(o,a).express(b).simplify()\n",
    "H_ca.dt(a)"
   ]
  },
  {
   "cell_type": "code",
   "execution_count": 105,
   "id": "a648386c",
   "metadata": {},
   "outputs": [
    {
     "data": {
      "text/latex": [
       "$\\displaystyle g mc \\left(d \\cos{\\left(\\operatorname{q_{1}}{\\left(t \\right)} \\right)} + h \\sin{\\left(\\operatorname{q_{1}}{\\left(t \\right)} \\right)}\\right) + \\left(Ir + d^{2} mc + h^{2} mc\\right) \\frac{d^{2}}{d t^{2}} \\operatorname{q_{1}}{\\left(t \\right)}$"
      ],
      "text/plain": [
       "g*mc*(d*cos(q1(t)) + h*sin(q1(t))) + (Ir + d**2*mc + h**2*mc)*Derivative(q1(t), (t, 2))"
      ]
     },
     "execution_count": 105,
     "metadata": {},
     "output_type": "execute_result"
    }
   ],
   "source": [
    "#Calcule la derivada del momentum angular y el momento producido por el peso de la llanta\n",
    "M3=H_ca.dt(a)+body_llanta.masscenter.pos_from(o).cross(body_llanta.mass*g*a.y)\n",
    "M3.dot(a.z)"
   ]
  }
 ],
 "metadata": {
  "kernelspec": {
   "display_name": "Python 3 (ipykernel)",
   "language": "python",
   "name": "python3"
  },
  "language_info": {
   "codemirror_mode": {
    "name": "ipython",
    "version": 3
   },
   "file_extension": ".py",
   "mimetype": "text/x-python",
   "name": "python",
   "nbconvert_exporter": "python",
   "pygments_lexer": "ipython3",
   "version": "3.8.3"
  }
 },
 "nbformat": 4,
 "nbformat_minor": 5
}
