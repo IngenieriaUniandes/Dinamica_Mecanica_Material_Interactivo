{
 "cells": [
  {
   "cell_type": "code",
   "execution_count": 300,
   "id": "b697b967",
   "metadata": {},
   "outputs": [],
   "source": [
    "from sympy.physics.mechanics import ReferenceFrame,Point,dynamicsymbols\n",
    "from sympy.physics.mechanics import Point\n",
    "from sympy import latex,pprint,symbols\n",
    "import numpy as np\n",
    "init_printing() # Para visualizar simbolos"
   ]
  },
  {
   "cell_type": "markdown",
   "id": "5078488b",
   "metadata": {},
   "source": [
    "## 1.1 Marcos de referencia y sistemas de coordenadas"
   ]
  },
  {
   "cell_type": "code",
   "execution_count": 14,
   "id": "89d77433",
   "metadata": {},
   "outputs": [],
   "source": [
    "# Definimos marcos de referencia con sympy.physics.mechanics\n",
    "a=ReferenceFrame('A')\n",
    "b=ReferenceFrame('B')\n",
    "c=ReferenceFrame('C')"
   ]
  },
  {
   "cell_type": "code",
   "execution_count": 30,
   "id": "0e24ffa2",
   "metadata": {},
   "outputs": [
    {
     "data": {
      "image/png": "[encoded data removed]",
      "text/latex": [
       "$\\displaystyle \\mathbf{\\hat{c}_y}$"
      ],
      "text/plain": [
       "c_y"
      ]
     },
     "execution_count": 30,
     "metadata": {},
     "output_type": "execute_result"
    }
   ],
   "source": [
    "# Cada marco de referencia automaticamente define un sistema de coordenadas.\n",
    "# Observe que la notacion en sympy es x,y,z en vez de 1,2,3.\n",
    "# Podemos verificar la definicion de los vectores unitarios con el producto cruz (pag 2.) \n",
    "c.z.cross(c.x)"
   ]
  },
  {
   "cell_type": "markdown",
   "id": "444c6e9e",
   "metadata": {},
   "source": [
    "## 1.2 Variables de movimiento"
   ]
  },
  {
   "cell_type": "code",
   "execution_count": 46,
   "id": "f405508d",
   "metadata": {},
   "outputs": [
    {
     "name": "stdout",
     "output_type": "stream",
     "text": [
      "True\n",
      "True\n",
      "False\n"
     ]
    }
   ],
   "source": [
    "#Para el ejemplo de la atraccion de parque (Figura 3) en vez de definir los marcos de referencia\n",
    "# por separado podemos utilizar cada marco de referencia para definir el siguiente y vincularlos \n",
    "# a travez de una rotacion relativa, definida por las variables de movimiento (q1,q2,q3).\n",
    "\n",
    "# Definimos primero el marco A (base de la atraccion)\n",
    "a=ReferenceFrame('A')\n",
    "# Ahora los symbolos para las variables de movimiento\n",
    "q1,q2=symbols('q1,q2')\n",
    "# Definimos b rotando q1 respecto a a.x\n",
    "b=a.orientnew('B','Axis',(q1,a.x))\n",
    "# Definimos c rotando q2 respecto a b.z\n",
    "c=b.orientnew('C','Axis',(q2,b.z))\n",
    "\n",
    "# De esta manera quedan definidas las coordenadas como propone el ejemplo. Esto lo podemos verificar\n",
    "# facilmente:\n",
    "print(a.x==b.x) #True\n",
    "print(c.z==c.z) #True \n",
    "print(a.x==b.y) #False\n"
   ]
  },
  {
   "cell_type": "markdown",
   "id": "0a510b39",
   "metadata": {},
   "source": [
    "## 1.3 Derivadas de vectores "
   ]
  },
  {
   "cell_type": "code",
   "execution_count": 63,
   "id": "014427ee",
   "metadata": {},
   "outputs": [],
   "source": [
    "# Tal vez esta seccion se podria explicar con el ejemplo de la atraccion en vez de SCARA?\n",
    "# Continuo con el SCARA para ser consistente con el libro\n",
    "\n",
    "# Se definen marcos de referencia para cada parte A B C D\n",
    "a=ReferenceFrame('A')\n",
    "# Ahora los symbolos para las variables de movimiento\n",
    "q1,q2,q3=symbols('q1,q2,q3')\n",
    "# Defina b rotando q1 respecto a a.z\n",
    "b=a.orientnew('B','Axis',(q1,a.z))\n",
    "# Defina c rotando q2 respecto a b.z\n",
    "c=b.orientnew('C','Axis',(q2,b.z))\n",
    "# No necesita definir D, ya que tiene la misma orientacion de C\n",
    " \n",
    "# Luega defina cada punto usando los sistemas de coordenadas\n",
    "# Primero el Origen O\n",
    "O=Point('O') \n",
    "# El Punto P en la base del hombro esta a una distancia l1 en el eje a.z\n",
    "l1,l2,l3=symbols('l1,l2,l3')\n",
    "P=O.locatenew('P',l1*a.z)\n",
    "Q=P.locatenew('Q',l2*b.x)\n",
    "R=Q.locatenew('R',l3*c.x)\n",
    "S=R.locatenew('S',q3*c.z)\n",
    "\n"
   ]
  },
  {
   "cell_type": "code",
   "execution_count": 68,
   "id": "5295a2de",
   "metadata": {},
   "outputs": [
    {
     "data": {
      "image/png": "[encoded data removed]",
      "text/latex": [
       "$\\displaystyle l_{3}\\mathbf{\\hat{c}_x} + q_{3}\\mathbf{\\hat{c}_z} + l_{2}\\mathbf{\\hat{b}_x} + l_{1}\\mathbf{\\hat{a}_z}$"
      ],
      "text/plain": [
       "l₃ c_x + q₃ c_z + l₂ b_x + l₁ a_z"
      ]
     },
     "execution_count": 68,
     "metadata": {},
     "output_type": "execute_result"
    }
   ],
   "source": [
    "#Ahora encuentre la posicion del punto O al punto S\n",
    "v=S.pos_from(O)\n",
    "v"
   ]
  },
  {
   "cell_type": "code",
   "execution_count": 69,
   "id": "dfabb926",
   "metadata": {},
   "outputs": [
    {
     "data": {
      "image/png": "[encoded data removed]",
      "text/latex": [
       "$\\displaystyle l_{3}\\mathbf{\\hat{c}_x} + q_{3}\\mathbf{\\hat{c}_z}$"
      ],
      "text/plain": [
       "l₃ c_x + q₃ c_z"
      ]
     },
     "execution_count": 69,
     "metadata": {},
     "output_type": "execute_result"
    }
   ],
   "source": [
    "# Y la posicion del punto Q al punto S\n",
    "w=S.pos_from(Q)\n",
    "w"
   ]
  },
  {
   "cell_type": "code",
   "execution_count": 74,
   "id": "db7b7227",
   "metadata": {},
   "outputs": [
    {
     "data": {
      "image/png": "[encoded data removed]",
      "text/latex": [
       "$\\displaystyle 0$"
      ],
      "text/plain": [
       "0"
      ]
     },
     "execution_count": 74,
     "metadata": {},
     "output_type": "execute_result"
    }
   ],
   "source": [
    "# Si se calcula la derivada en el marco de referencia B\n",
    "w.diff(q1,b)"
   ]
  },
  {
   "cell_type": "code",
   "execution_count": 75,
   "id": "783faf71",
   "metadata": {},
   "outputs": [
    {
     "data": {
      "image/png": "[encoded data removed]",
      "text/latex": [
       "$\\displaystyle (l_{3} \\left(- \\sin{\\left(q_{1} \\right)} \\sin{\\left(q_{2} \\right)} + \\cos{\\left(q_{1} \\right)} \\cos{\\left(q_{2} \\right)}\\right) \\left(- \\sin{\\left(q_{1} \\right)} \\cos{\\left(q_{2} \\right)} - \\sin{\\left(q_{2} \\right)} \\cos{\\left(q_{1} \\right)}\\right) + l_{3} \\left(- \\sin{\\left(q_{1} \\right)} \\sin{\\left(q_{2} \\right)} + \\cos{\\left(q_{1} \\right)} \\cos{\\left(q_{2} \\right)}\\right) \\left(\\sin{\\left(q_{1} \\right)} \\cos{\\left(q_{2} \\right)} + \\sin{\\left(q_{2} \\right)} \\cos{\\left(q_{1} \\right)}\\right))\\mathbf{\\hat{c}_x} + (l_{3} \\left(- \\sin{\\left(q_{1} \\right)} \\sin{\\left(q_{2} \\right)} + \\cos{\\left(q_{1} \\right)} \\cos{\\left(q_{2} \\right)}\\right)^{2} + l_{3} \\left(- \\sin{\\left(q_{1} \\right)} \\cos{\\left(q_{2} \\right)} - \\sin{\\left(q_{2} \\right)} \\cos{\\left(q_{1} \\right)}\\right)^{2})\\mathbf{\\hat{c}_y}$"
      ],
      "text/plain": [
       "\n",
       "(l₃⋅(-sin(q₁)⋅sin(q₂) + cos(q₁)⋅cos(q₂))⋅(-sin(q₁)⋅cos(q₂) - sin(q₂)⋅cos(q₁))\n",
       "\n",
       "\n",
       "+ l₃⋅(-sin(q₁)⋅sin(q₂) + cos(q₁)⋅cos(q₂))⋅(sin(q₁)⋅cos(q₂) + sin(q₂)⋅cos(q₁)))\n",
       "\n",
       "       ⎛                                       2\n",
       " c_x + ⎝l₃⋅(-sin(q₁)⋅sin(q₂) + cos(q₁)⋅cos(q₂))  + l₃⋅(-sin(q₁)⋅cos(q₂) - sin(\n",
       "\n",
       "            2⎞\n",
       "q₂)⋅cos(q₁)) ⎠ c_y"
      ]
     },
     "execution_count": 75,
     "metadata": {},
     "output_type": "execute_result"
    }
   ],
   "source": [
    "# Si se calcula la derivada en el marco de referencia A\n",
    "w.diff(q1,a)"
   ]
  },
  {
   "cell_type": "markdown",
   "id": "649318d0",
   "metadata": {},
   "source": [
    "## 1.4 Derivadas parciales"
   ]
  },
  {
   "cell_type": "code",
   "execution_count": 276,
   "id": "fb471789",
   "metadata": {},
   "outputs": [],
   "source": [
    "# Ejemplo modelo simplificado de una pierna\n",
    "\n",
    "# Se definen marcos de referencia para cada parte A B C D\n",
    "a=ReferenceFrame('A')\n",
    "# Ahora los symbolos para las variables de movimiento\n",
    "q1,q2,q3,q4=symbols('q1,q2,q3,q4')\n",
    "\n",
    "# Aqui un comentario para aclarar esta seccion.\n",
    "# Segun el ejemplo del libro q1 es rotacion en a1(ax) y luego q2 es rotacion en y.\n",
    "# La figura 5 no fue muy clara por si sola hasta que no se revisa el eje intermedio e (figura 6) y se entiende\n",
    "# que las rotaciones q1 y q2  son flexion/extension (q1) y abduccion/adduccion (q2) de la cadera.\n",
    "# Teniendo en cuenta esto, se define tambien el marco de referencia intermedio \"E\" para mayor claridad en esta seccion.\n",
    "# Aunque se podria realizar directamente la definicion del marco b asi: \n",
    "# b=a.orientnew('B','Body',(q1,q2,0),'XYZ') \n",
    "\n",
    "# Defina e rotando q1 en a.x\n",
    "e=a.orientnew('E','Axis',(q1,a.x))\n",
    "# Defina b rotando q2 en e.y\n",
    "b=e.orientnew('B','Axis',(q2,e.y))\n",
    "# Defina c rotando q3 en b.z\n",
    "c=b.orientnew('C','Axis',(q3,b.x))\n",
    "# Defina D rotando q4 en c.x\n",
    "d=c.orientnew('D','Axis',(q4,-c.x))\n",
    "\n",
    "# Luega defina cada punto usando los sistemas de coordenadas\n",
    "# Primero el Origen O en la pelvis\n",
    "O=Point('O') \n",
    "l1,l2,l3,l4,l5,l6=symbols('l1,l2,l3,l4,l5,l6') # variables de distancia\n",
    "origen_b=O.locatenew('P',-l1*a.x-l2*b.x)\n",
    "rodilla=origen_b.locatenew('Q',-l3*b.z)\n",
    "origen_c=rodilla.locatenew('R',-l4*c.z)\n",
    "origen_d=origen_c.locatenew('S',-l5*d.z-l6*d.y)\n",
    "\n",
    "# Ahora calcule los vectores\n",
    "u=origen_d.pos_from(rodilla) # rodilla hasta punta del pie\n",
    "v=origen_c.pos_from(origen_b) # cadera hasta tobillo\n",
    "w=rodilla.pos_from(O) # pelvis hasta rodilla"
   ]
  },
  {
   "cell_type": "code",
   "execution_count": 277,
   "id": "c1d6f4f9",
   "metadata": {},
   "outputs": [],
   "source": [
    "# Tabla 1. Cambio en los vectores en los marcos de referencia\n",
    "tables=dict()\n",
    "for frame in [a,b,c,d]:\n",
    "    tbl=np.zeros((4,3),dtype=bool)\n",
    "    for j,vec in enumerate([u,v,w]):\n",
    "        for i,coord in enumerate([q1,q2,q3,q4]):            \n",
    "            tbl[i,j]=not(vec.diff(coord,frame)==0)\n",
    "    tables[frame.name]=tbl        "
   ]
  },
  {
   "cell_type": "code",
   "execution_count": 278,
   "id": "4d573392",
   "metadata": {},
   "outputs": [
    {
     "data": {
      "text/plain": [
       "{'A': array([[ True,  True,  True],\n",
       "        [ True,  True,  True],\n",
       "        [ True,  True, False],\n",
       "        [ True, False, False]]),\n",
       " 'B': array([[False, False, False],\n",
       "        [False, False,  True],\n",
       "        [ True,  True, False],\n",
       "        [ True, False, False]]),\n",
       " 'C': array([[False, False, False],\n",
       "        [False, False,  True],\n",
       "        [False,  True,  True],\n",
       "        [ True, False, False]]),\n",
       " 'D': array([[False, False, False],\n",
       "        [False, False,  True],\n",
       "        [False,  True,  True],\n",
       "        [ True,  True,  True]])}"
      ]
     },
     "execution_count": 278,
     "metadata": {},
     "output_type": "execute_result"
    }
   ],
   "source": [
    "# Confirmando los resultados de la tabla 1.\n",
    "tables"
   ]
  },
  {
   "cell_type": "code",
   "execution_count": 279,
   "id": "067df9d8",
   "metadata": {},
   "outputs": [
    {
     "data": {
      "image/png": "[encoded data removed]",
      "text/latex": [
       "$\\displaystyle (- l_{1} \\cos{\\left(q_{2} \\right)} - l_{2})\\mathbf{\\hat{b}_x} + (- l_{1} \\sin{\\left(q_{2} \\right)} - l_{3})\\mathbf{\\hat{b}_z}$"
      ],
      "text/plain": [
       "(-l₁⋅cos(q₂) - l₂) b_x + (-l₁⋅sin(q₂) - l₃) b_z"
      ]
     },
     "execution_count": 279,
     "metadata": {},
     "output_type": "execute_result"
    }
   ],
   "source": [
    "# Puede utilizar el metodo express para expresar cualquier vector en el\n",
    "# marco de referencia deseado y verificar si contiene terminos qi.\n",
    "w.express(b)"
   ]
  },
  {
   "cell_type": "code",
   "execution_count": 280,
   "id": "9f6ac2a9",
   "metadata": {},
   "outputs": [
    {
     "data": {
      "image/png": "[encoded data removed]",
      "text/latex": [
       "$\\displaystyle \\cos{\\left(q_{4} \\right)}\\mathbf{\\hat{c}_y} -  \\sin{\\left(q_{4} \\right)}\\mathbf{\\hat{c}_z}$"
      ],
      "text/plain": [
       "cos(q₄) c_y + -sin(q₄) c_z"
      ]
     },
     "execution_count": 280,
     "metadata": {},
     "output_type": "execute_result"
    }
   ],
   "source": [
    "# Tambien puede utilizar el metodo express para establecer las relaciones\n",
    "# entre vectores unitarios de la figura 6.\n",
    "d.y.express(c)"
   ]
  },
  {
   "cell_type": "code",
   "execution_count": 281,
   "id": "2870c57c",
   "metadata": {},
   "outputs": [
    {
     "data": {
      "image/png": "[encoded data removed]",
      "text/latex": [
       "$\\displaystyle - \\mathbf{\\hat{d}_z}$"
      ],
      "text/plain": [
       " - d_z"
      ]
     },
     "execution_count": 281,
     "metadata": {},
     "output_type": "execute_result"
    }
   ],
   "source": [
    "# Y por supuesto calcular derivadas parciales de estos vectores\n",
    "d.y.diff(q4,c).simplify()"
   ]
  },
  {
   "cell_type": "code",
   "execution_count": 289,
   "id": "8fe5d60a",
   "metadata": {},
   "outputs": [
    {
     "data": {
      "image/png": "[encoded data removed]",
      "text/latex": [
       "$\\displaystyle - \\mathbf{\\hat{b}_z}$"
      ],
      "text/plain": [
       " - b_z"
      ]
     },
     "execution_count": 289,
     "metadata": {},
     "output_type": "execute_result"
    }
   ],
   "source": [
    "# Puede verificar todas las derivadas parciales del ejemplo\n",
    "b.x.diff(q2,a).simplify()\n",
    "#b.y.diff(q2,a).simplify()\n",
    "#b.z.diff(q2,a).simplify()\n",
    "#a.x.diff(q1,b).simplify()\n",
    "#a.y.diff(q1,b).simplify()\n",
    "#a.z.diff(q1,b).simplify()\n"
   ]
  },
  {
   "cell_type": "markdown",
   "id": "098ba683",
   "metadata": {},
   "source": [
    "## 1.5 Derivada total"
   ]
  },
  {
   "cell_type": "code",
   "execution_count": 301,
   "id": "33b411a4",
   "metadata": {},
   "outputs": [],
   "source": [
    "# Se utiliza el modelo simplificado de una pierna con una simplificacion \n",
    "# adicional: espesor 0. \n",
    "\n",
    "# Se definen las variables de movimiento\n",
    "# Como se quiere encontrar la derivada total (derivada respecto al tiempo), en este caso\n",
    "# se utilizan simbolos dinamicos para las variables de movimiento. (q1(t), q2(t), etc.)\n",
    "q1,q2,q3,q4=dynamicsymbols('q1,q2,q3,q4')\n",
    "\n",
    "# Los marcos se mantienen igual, pero podemos eliminar\n",
    "# el marco intermedio E y usar b orientado con rotaciones sucesivas ('Body').\n",
    "# Se definen marcos de referencia para cada parte A B C D\n",
    "a=ReferenceFrame('A')\n",
    "# Defina b rotando sucesivamente en x (ax) y luego en y (ey).\n",
    "b=a.orientnew('B','Body',(q1,q2,0),'XYZ') \n",
    "# Defina c rotando q3 en b.z\n",
    "c=b.orientnew('C','Axis',(q3,b.x))\n",
    "# Defina D rotando q4 en c.x\n",
    "d=c.orientnew('D','Axis',(q4,-c.x))\n",
    "\n",
    "# Luega defina cada punto usando los sistemas de coordenadas\n",
    "# Primero el Origen O en la pelvis\n",
    "O=Point('O') \n",
    "la,lb,lc,ld=symbols('la,lb,lc,ld') # variables de distancia\n",
    "origen_b=O.locatenew('P',-la*a.x)\n",
    "rodilla=origen_b.locatenew('Q',-lb*b.z)\n",
    "origen_c=rodilla.locatenew('R',-lc*c.z)\n",
    "origen_d=origen_c.locatenew('S',-ld*d.y)\n",
    "\n",
    "# Ahora calcule los vectores\n",
    "u=origen_d.pos_from(rodilla) # rodilla hasta punta del pie\n",
    "v=origen_c.pos_from(origen_b) # cadera hasta tobillo\n",
    "w=rodilla.pos_from(O) # pelvis hasta rodilla"
   ]
  },
  {
   "cell_type": "code",
   "execution_count": 297,
   "id": "8205087b",
   "metadata": {},
   "outputs": [
    {
     "data": {
      "image/png": "[encoded data removed]",
      "text/latex": [
       "$\\displaystyle -  ld\\mathbf{\\hat{d}_y} -  lc\\mathbf{\\hat{c}_z}$"
      ],
      "text/plain": [
       "-ld d_y + -lc c_z"
      ]
     },
     "execution_count": 297,
     "metadata": {},
     "output_type": "execute_result"
    }
   ],
   "source": [
    "# Puede verificar los vectores \n",
    "u # rodilla hasta punta del pie\n",
    "# v # cadera hasta tobillo\n",
    "# w # pelvis hasta rodilla"
   ]
  },
  {
   "cell_type": "code",
   "execution_count": 314,
   "id": "d50cb3d1",
   "metadata": {},
   "outputs": [
    {
     "data": {
      "image/png": "[encoded data removed]",
      "text/latex": [
       "$\\displaystyle -  lb \\frac{d}{d t} \\operatorname{q_{2}}{\\left(t \\right)}\\mathbf{\\hat{b}_x} + lb \\cos{\\left(\\operatorname{q_{2}}{\\left(t \\right)} \\right)} \\frac{d}{d t} \\operatorname{q_{1}}{\\left(t \\right)}\\mathbf{\\hat{b}_y}$"
      ],
      "text/plain": [
       "    d                             d\n",
       "-lb⋅──(q₂(t)) b_x + lb⋅cos(q₂(t))⋅──(q₁(t)) b_y\n",
       "    dt                            dt"
      ]
     },
     "execution_count": 314,
     "metadata": {},
     "output_type": "execute_result"
    }
   ],
   "source": [
    "# Puede calcular las derivadas totales\n",
    "u.dt(d) # derivada du/dt en el marco D\n",
    "#v.dt(d).express(c) # derivada dv/dt en el marco D expresadas en coordenadas c\n",
    "#w.dt(a) # derivada dw/dt en el marco A "
   ]
  },
  {
   "cell_type": "markdown",
   "id": "96df91df",
   "metadata": {},
   "source": [
    "## 1.6 Matrices de rotacion"
   ]
  },
  {
   "cell_type": "code",
   "execution_count": 346,
   "id": "5da5442a",
   "metadata": {},
   "outputs": [
    {
     "data": {
      "image/png": "[encoded data removed]",
      "text/latex": [
       "$\\displaystyle b_{1}\\mathbf{\\hat{a}_x} + (b_{2} \\cos{\\left(\\theta \\right)} - b_{3} \\sin{\\left(\\theta \\right)})\\mathbf{\\hat{a}_y} + (b_{2} \\sin{\\left(\\theta \\right)} + b_{3} \\cos{\\left(\\theta \\right)})\\mathbf{\\hat{a}_z}$"
      ],
      "text/plain": [
       "b₁ a_x + (b₂⋅cos(θ) - b₃⋅sin(θ)) a_y + (b₂⋅sin(θ) + b₃⋅cos(θ)) a_z"
      ]
     },
     "execution_count": 346,
     "metadata": {},
     "output_type": "execute_result"
    }
   ],
   "source": [
    "# Defina un marco de referencia A\n",
    "a=ReferenceFrame('A')\n",
    "# Defina el symbolo theta para el angulo de rotacion\n",
    "theta=symbols('theta')\n",
    "# Defina un marco de referencia B aplicando una rotacion en ax.\n",
    "b=a.orientnew('B','Axis',(theta,a.x))\n",
    "# Puede expresar vectores definidos con componentes en b. Por ejemplo:\n",
    "b1,b2,b3=symbols('b1,b2,b3')\n",
    "vec1=b1*b.x+b2*b.y+b3*b.z # Vector vec1 definido por componentes b1 en bx, b2 en by, b3, en bz/\n",
    "\n",
    "# Observe que pasa cuando expresa el vector en el sistema de coordenadas de A\n",
    "vec1.express(a)\n",
    "#vec1.express(b)"
   ]
  },
  {
   "cell_type": "markdown",
   "id": "ac1fffb1",
   "metadata": {},
   "source": [
    "## 1.7 Cosenos directores"
   ]
  },
  {
   "cell_type": "code",
   "execution_count": 380,
   "id": "1fe6fb33",
   "metadata": {},
   "outputs": [
    {
     "name": "stdout",
     "output_type": "stream",
     "text": [
      "en x:\n",
      "⎡1    0        0   ⎤\n",
      "⎢                  ⎥\n",
      "⎢0  cos(θ)  -sin(θ)⎥\n",
      "⎢                  ⎥\n",
      "⎣0  sin(θ)  cos(θ) ⎦\n",
      "en y:\n",
      "⎡cos(θ)   0  sin(θ)⎤\n",
      "⎢                  ⎥\n",
      "⎢   0     1    0   ⎥\n",
      "⎢                  ⎥\n",
      "⎣-sin(θ)  0  cos(θ)⎦\n",
      "en z:\n",
      "⎡cos(θ)  -sin(θ)  0⎤\n",
      "⎢                  ⎥\n",
      "⎢sin(θ)  cos(θ)   0⎥\n",
      "⎢                  ⎥\n",
      "⎣  0        0     1⎦\n"
     ]
    }
   ],
   "source": [
    "# Defina un marco de referencia A\n",
    "a=ReferenceFrame('A')\n",
    "# Defina el symbolo theta para el angulo de rotacion\n",
    "theta=symbols('theta')\n",
    "# Ahora defina un marco de referencia B con con diferentes rotaciones.\n",
    "b=a.orientnew('B','Axis',(theta,a.x))\n",
    "print('en x:')\n",
    "pprint(a.dcm(b))\n",
    "b=a.orientnew('B','Axis',(theta,a.y))\n",
    "print('en y:')\n",
    "pprint(a.dcm(b))\n",
    "b=a.orientnew('B','Axis',(theta,a.z))\n",
    "print('en z:')\n",
    "pprint(a.dcm(b))"
   ]
  },
  {
   "cell_type": "markdown",
   "id": "abf132d1",
   "metadata": {},
   "source": [
    "## 1.8 Diadicas de vectores"
   ]
  },
  {
   "cell_type": "code",
   "execution_count": 381,
   "id": "691eaeef",
   "metadata": {},
   "outputs": [
    {
     "data": {
      "image/png": "[encoded data removed]",
      "text/latex": [
       "$\\displaystyle \\mathbf{\\hat{a}_x}\\otimes \\mathbf{\\hat{a}_x} + \\mathbf{\\hat{a}_y}\\otimes \\mathbf{\\hat{a}_y} + \\mathbf{\\hat{a}_z}\\otimes \\mathbf{\\hat{a}_z}$"
      ],
      "text/plain": [
       "a_x⊗a_x + a_y⊗a_y + a_z⊗a_z"
      ]
     },
     "execution_count": 381,
     "metadata": {},
     "output_type": "execute_result"
    }
   ],
   "source": [
    "# Puede construir diadicas utilizando el metodo outer (producto diadico)\n",
    "from sympy.physics.mechanics import outer,dot \n",
    "A=outer(a.x,a.x)+outer(a.y,a.y)+outer(a.z,a.z)\n",
    "A # Diadica A"
   ]
  },
  {
   "cell_type": "code",
   "execution_count": 389,
   "id": "c706e8d6",
   "metadata": {},
   "outputs": [
    {
     "data": {
      "image/png": "[encoded data removed]",
      "text/latex": [
       "$\\displaystyle (b_{1} \\cos{\\left(\\theta \\right)} - b_{2} \\sin{\\left(\\theta \\right)})\\mathbf{\\hat{a}_x} + (b_{1} \\sin{\\left(\\theta \\right)} + b_{2} \\cos{\\left(\\theta \\right)})\\mathbf{\\hat{a}_y} + b_{3}\\mathbf{\\hat{a}_z}$"
      ],
      "text/plain": [
       "(b₁⋅cos(θ) - b₂⋅sin(θ)) a_x + (b₁⋅sin(θ) + b₂⋅cos(θ)) a_y + b₃ a_z"
      ]
     },
     "execution_count": 389,
     "metadata": {},
     "output_type": "execute_result"
    }
   ],
   "source": [
    "#Calule el producto A.b \n",
    "A.dot(b1*b.x+b2*b.y+b3*b.z)"
   ]
  }
 ],
 "metadata": {
  "kernelspec": {
   "display_name": "Python 3 (ipykernel)",
   "language": "python",
   "name": "python3"
  },
  "language_info": {
   "codemirror_mode": {
    "name": "ipython",
    "version": 3
   },
   "file_extension": ".py",
   "mimetype": "text/x-python",
   "name": "python",
   "nbconvert_exporter": "python",
   "pygments_lexer": "ipython3",
   "version": "3.8.3"
  }
 },
 "nbformat": 4,
 "nbformat_minor": 5
}
