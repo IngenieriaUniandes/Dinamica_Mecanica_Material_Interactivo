{
 "cells": [
  {
   "cell_type": "code",
   "execution_count": 11,
   "id": "7c8fe5f5",
   "metadata": {},
   "outputs": [],
   "source": [
    "from sympy.physics.mechanics import ReferenceFrame,Point,dynamicsymbols\n",
    "from sympy.physics.mechanics import Point\n",
    "from sympy import latex,pprint,symbols,init_printing\n",
    "from sympy.algebras.quaternion import Quaternion\n",
    "import numpy as np\n",
    "init_printing() # Para visualizar simbolos"
   ]
  },
  {
   "cell_type": "markdown",
   "id": "e344211f",
   "metadata": {},
   "source": [
    "## 3. Cinematica de puntos"
   ]
  },
  {
   "cell_type": "markdown",
   "id": "9ce30afb",
   "metadata": {},
   "source": [
    "## 3.1 Velocidad y aceleracion de puntos"
   ]
  },
  {
   "cell_type": "code",
   "execution_count": 46,
   "id": "9cd4c804",
   "metadata": {},
   "outputs": [
    {
     "data": {
      "image/png": "[encoded data removed]",
      "text/latex": [
       "$\\displaystyle (L \\cos{\\left(\\operatorname{q_{2}}{\\left(t \\right)} \\right)} \\frac{d}{d t} \\operatorname{q_{1}}{\\left(t \\right)} + R \\frac{d}{d t} \\operatorname{q_{2}}{\\left(t \\right)})\\mathbf{\\hat{b}_x} + L \\sin{\\left(\\operatorname{q_{2}}{\\left(t \\right)} \\right)} \\frac{d}{d t} \\operatorname{q_{1}}{\\left(t \\right)}\\mathbf{\\hat{b}_y} -  R \\sin{\\left(\\operatorname{q_{2}}{\\left(t \\right)} \\right)} \\frac{d}{d t} \\operatorname{q_{1}}{\\left(t \\right)}\\mathbf{\\hat{b}_z}$"
      ],
      "text/plain": [
       "⎛             d             d        ⎞                    d\n",
       "⎜L⋅cos(q₂(t))⋅──(q₁(t)) + R⋅──(q₂(t))⎟ b_x + L⋅sin(q₂(t))⋅──(q₁(t)) b_y + -R⋅s\n",
       "⎝             dt            dt       ⎠                    dt\n",
       "\n",
       "          d\n",
       "in(q₂(t))⋅──(q₁(t)) b_z\n",
       "          dt"
      ]
     },
     "execution_count": 46,
     "metadata": {},
     "output_type": "execute_result"
    }
   ],
   "source": [
    "# Para el ejemplo de atraccion de parque de diversiones\n",
    "a=ReferenceFrame('A')\n",
    "#Defina el punto O\n",
    "o=Point('O')\n",
    "# Parametros del modelo\n",
    "l,r=symbols('L,R')\n",
    "# Variables de movimiento\n",
    "q1,q2=dynamicsymbols('q1,q2')\n",
    "# Marco de referencia intermedio E\n",
    "e=a.orientnew('E','Axis',(q1,a.y))\n",
    "# Marco de referencia intermedio B\n",
    "b=e.orientnew('B','Axis',(q2,-e.z))\n",
    "p=o.locatenew('P',l*b.z)\n",
    "q=p.locatenew('Q',r*b.y)\n",
    "\n",
    "#Calcule el vector desde el centro del eje de rotacion del pendulo hasta el usuario\n",
    "r_qo=q.pos_from(o)\n",
    "#La velocidad del usuario es:\n",
    "r_qo.dt(a)\n",
    "#La aceleracion del usuario es:\n",
    "#r_qo.dt(a).dt(a).subs(q2.diff().diff(),0).simplify()"
   ]
  },
  {
   "cell_type": "code",
   "execution_count": 33,
   "id": "0ce2784e",
   "metadata": {},
   "outputs": [
    {
     "data": {
      "image/png": "[encoded data removed]",
      "text/latex": [
       "$\\displaystyle \\frac{d^{2}}{d t^{2}} \\operatorname{q_{2}}{\\left(t \\right)}$"
      ],
      "text/plain": [
       "  2       \n",
       " d        \n",
       "───(q₂(t))\n",
       "  2       \n",
       "dt        "
      ]
     },
     "execution_count": 33,
     "metadata": {},
     "output_type": "execute_result"
    }
   ],
   "source": [
    "q2.diff().diff()"
   ]
  },
  {
   "cell_type": "markdown",
   "id": "a5689ece",
   "metadata": {},
   "source": [
    "## 3.2 Velocidad y aceleracion de puntos fijos en un cuerpo"
   ]
  },
  {
   "cell_type": "code",
   "execution_count": 36,
   "id": "1e971d4c",
   "metadata": {},
   "outputs": [],
   "source": [
    "# Para el ejemplo de atraccion de parque de diversiones\n",
    "a=ReferenceFrame('A')\n",
    "#Defina el punto O\n",
    "o=Point('O')\n",
    "# Parametros del modelo\n",
    "l,r=symbols('L,R')\n",
    "# Variables de movimiento\n",
    "q1,q2=dynamicsymbols('q1,q2')\n",
    "# Marco de referencia intermedio E\n",
    "e=a.orientnew('E','Axis',(q1,a.y))\n",
    "# Marco de referencia intermedio B\n",
    "b=e.orientnew('B','Axis',(q2,-e.z))\n",
    "p=o.locatenew('P',l*b.z)\n",
    "q=p.locatenew('Q',r*b.y)"
   ]
  },
  {
   "cell_type": "code",
   "execution_count": 48,
   "id": "c7703ef2",
   "metadata": {},
   "outputs": [],
   "source": [
    "#Utilice el metodo v2pt_theory para calcular la velocidad de un punto con la velocidad \n",
    "#de otro punto fijo en el mismo marco.\n",
    "#Primero defina la velocidad de O en el marco A, y de P en B como 0 ya que son puntos fijos en estos\n",
    "#marcos.\n",
    "o.set_vel(a,0)\n",
    "p.set_vel(b,0)\n",
    "#Luego utilice v2pt_theory para definir la velocidad de P en a respecto al punto O\n",
    "p.v2pt_theory(o,a,b)\n",
    "#Ahora utilice v2pt_theory para definir la velocidad de Q en a respecto al punto P\n",
    "q.v2pt_theory(p,a,b)\n",
    "#Observe que el resultado es el mismo que calculando la derivada total de r_qo\n",
    "#Ahora pruebe utilizar el metodo a2pt_theory para calcular la aceleracion"
   ]
  },
  {
   "cell_type": "markdown",
   "id": "42a75cef",
   "metadata": {},
   "source": [
    "## 3.3 Velocidad y aceleracion de puntos moviles sobre un cuerpo"
   ]
  },
  {
   "cell_type": "code",
   "execution_count": 62,
   "id": "99cc4103",
   "metadata": {},
   "outputs": [
    {
     "name": "stdout",
     "output_type": "stream",
     "text": [
      "d\n",
      "──(q₃(t)) b_x\n",
      "dt\n"
     ]
    },
    {
     "data": {
      "image/png": "[encoded data removed]",
      "text/latex": [
       "$\\displaystyle (L \\cos{\\left(\\operatorname{q_{2}}{\\left(t \\right)} \\right)} \\frac{d}{d t} \\operatorname{q_{1}}{\\left(t \\right)} + \\frac{d}{d t} \\operatorname{q_{3}}{\\left(t \\right)})\\mathbf{\\hat{b}_x} + (L \\sin{\\left(\\operatorname{q_{2}}{\\left(t \\right)} \\right)} \\frac{d}{d t} \\operatorname{q_{1}}{\\left(t \\right)} - \\operatorname{q_{3}}{\\left(t \\right)} \\frac{d}{d t} \\operatorname{q_{2}}{\\left(t \\right)})\\mathbf{\\hat{b}_y} -  \\operatorname{q_{3}}{\\left(t \\right)} \\cos{\\left(\\operatorname{q_{2}}{\\left(t \\right)} \\right)} \\frac{d}{d t} \\operatorname{q_{1}}{\\left(t \\right)}\\mathbf{\\hat{b}_z}$"
      ],
      "text/plain": [
       "⎛             d           d        ⎞       ⎛             d                 d\n",
       "⎜L⋅cos(q₂(t))⋅──(q₁(t)) + ──(q₃(t))⎟ b_x + ⎜L⋅sin(q₂(t))⋅──(q₁(t)) - q₃(t)⋅──(\n",
       "⎝             dt          dt       ⎠       ⎝             dt                dt\n",
       "\n",
       "      ⎞                         d\n",
       "q₂(t))⎟ b_y + -q₃(t)⋅cos(q₂(t))⋅──(q₁(t)) b_z\n",
       "      ⎠                         dt"
      ]
     },
     "execution_count": 62,
     "metadata": {},
     "output_type": "execute_result"
    }
   ],
   "source": [
    "# Modificamos el ejemplo de atraccion de parque de diversiones para incluir la variable\n",
    "# q3.\n",
    "a=ReferenceFrame('A')\n",
    "#Defina el punto O\n",
    "o=Point('O')\n",
    "# Parametros del modelo\n",
    "l,r=symbols('L,R')\n",
    "# Variables de movimiento\n",
    "q1,q2,q3=dynamicsymbols('q1,q2,q3')\n",
    "# Marco de referencia intermedio E\n",
    "e=a.orientnew('E','Axis',(q1,a.y))\n",
    "# Marco de referencia B\n",
    "b=e.orientnew('B','Axis',(q2,-e.z))\n",
    "p=o.locatenew('P',l*b.z)\n",
    "q=p.locatenew('Q',q3*b.x) #Esperamos que q3<R por el bien del usuario :)\n",
    "\n",
    "#Primero defina la velocidad de O en el marco A, y de P en B como 0 ya que son puntos fijos en estos\n",
    "#marcos.\n",
    "o.set_vel(a,0)\n",
    "p.set_vel(b,0)\n",
    "#Luego utilice v2pt_theory para definir la velocidad de P en a respecto al punto O\n",
    "p.v2pt_theory(o,a,b)\n",
    "#Ya no deberiamos utilizar v2pt_theory para definir la velocidad de Q puesto que\n",
    "#no es un punto fijo en B.\n",
    "#Dado que q fue definido en coordenadas de B, ya tiene la velocidad definida en este marco.\n",
    "#Verifique\n",
    "pprint(q.vel(b))\n",
    "#Ahora utilizamos v1pt_theory para encontrar la velocidad de q\n",
    "q.v1pt_theory(p,a,b)\n",
    "\n",
    "\n",
    "\n"
   ]
  },
  {
   "cell_type": "code",
   "execution_count": 59,
   "id": "1a9f75f0",
   "metadata": {},
   "outputs": [
    {
     "data": {
      "image/png": "[encoded data removed]",
      "text/latex": [
       "$\\displaystyle \\frac{d}{d t} \\operatorname{q_{3}}{\\left(t \\right)}\\mathbf{\\hat{b}_x}$"
      ],
      "text/plain": [
       "d\n",
       "──(q₃(t)) b_x\n",
       "dt"
      ]
     },
     "execution_count": 59,
     "metadata": {},
     "output_type": "execute_result"
    }
   ],
   "source": [
    "q.vel(b)"
   ]
  }
 ],
 "metadata": {
  "kernelspec": {
   "display_name": "Python 3 (ipykernel)",
   "language": "python",
   "name": "python3"
  },
  "language_info": {
   "codemirror_mode": {
    "name": "ipython",
    "version": 3
   },
   "file_extension": ".py",
   "mimetype": "text/x-python",
   "name": "python",
   "nbconvert_exporter": "python",
   "pygments_lexer": "ipython3",
   "version": "3.8.3"
  }
 },
 "nbformat": 4,
 "nbformat_minor": 5
}
